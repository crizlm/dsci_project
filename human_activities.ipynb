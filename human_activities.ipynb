{
 "cells": [
  {
   "cell_type": "markdown",
   "metadata": {},
   "source": [
    "# Recognizing Human Activities using Smartphones\n",
    "## Classification on Human Activity Recognition Using Smartphones Data Set"
   ]
  },
  {
   "cell_type": "markdown",
   "metadata": {},
   "source": [
    "### Introduction\n",
    "\n",
    "Human Activity Recognition (HAR) determines the activity done by an individual based on their surroundings and observations. Smartphones are powerful sensing tools used to accomplish HAR. Embedded built-in sensors such as microphones, accelerometers and gyroscopes are typical features of modern smartphones.\n",
    "\n",
    "In 2013, researchers from the University of Genova and Polytechnic University of Catalonia released a public dataset on HAR (Davide et al.). Thirty volunteers between the ages of 19 to 48 wore a Samsung Galaxy X II around the waist. The smartphone accelerometer and gyroscope identified six different human activities: three dynamic activities (1- walking, 2- walking upstairs, 3- walking downstairs) and three static postures (4- sitting, 5- standing, 6- laying). They collected triaxial linear acceleration and angular velocity signals using the phone embedded accelerometer and gyroscope at a constant rate of 50Hz. Noise filters were applied to pre-process the sensor signals. \n",
    "\n",
    "Dataset attributes include: \n",
    "- Triaxial acceleration obtained from the accelerometer and the estimated body acceleration\n",
    "- Triaxial angular velocity obtained from the gyroscope\n",
    "- A 561-feature vector with time and frequency domain variables\n",
    "- Its activity label \n",
    "- A subject identifier of who participated in the experiment \n",
    "\n",
    "Group 006-5 will explore this dataset to see if a human activity can be predicted based on the estimated body acceleration and angular velocity. Early works in HAR used the accelerometer to validate its capabilities against behaviour observation (Foerster, Smeja and Fahrenberg 571-583). The results showed that accelerometry is highly reliable for detecting posture and motion. Due to technological advancements, gyroscopes in conjunction with accelerators are becoming more common to use in HAR (Ahmed et al.). Based on these findings, features related to body acceleration and angular velocity are chosen for our analysis.\n"
   ]
  },
  {
   "cell_type": "markdown",
   "metadata": {},
   "source": [
    "### Preliminary Exploratory Data Analysis & Methods"
   ]
  },
  {
   "cell_type": "code",
   "execution_count": 184,
   "metadata": {},
   "outputs": [],
   "source": [
    "# First, we will load required packages\n",
    "library(repr)\n",
    "library(knitr)\n",
    "library(tidyverse)\n",
    "library(tidymodels)\n",
    "library(RColorBrewer)\n",
    "\n",
    "# Then, set the seed\n",
    "set.seed(1)"
   ]
  },
  {
   "cell_type": "markdown",
   "metadata": {},
   "source": [
    "#### I. Demonstrate that the dataset can be read from the web into R"
   ]
  },
  {
   "cell_type": "code",
   "execution_count": 185,
   "metadata": {},
   "outputs": [],
   "source": [
    "# Data source: http://archive.ics.uci.edu/ml/datasets/Smartphone-Based+Recognition+of+Human+Activities+and+Postural+Transitions#\n",
    "url <- \"https://archive.ics.uci.edu/ml/machine-learning-databases/00240/UCI%20HAR%20Dataset.zip\"\n",
    "\n",
    "# Specifying destination where file should be saved\n",
    "destfile <- \"data/localfile.zip\"\n",
    "\n",
    "# Apply download.file function \n",
    "download.file(url, destfile)\n",
    "\n",
    "# unzip the downloaded file\n",
    "unzip (\"data/localfile.zip\", exdir = \"data/\")"
   ]
  },
  {
   "cell_type": "markdown",
   "metadata": {},
   "source": [
    "#### II. Clean and wrangle data into a tidy format"
   ]
  },
  {
   "cell_type": "code",
   "execution_count": 186,
   "metadata": {},
   "outputs": [
    {
     "name": "stderr",
     "output_type": "stream",
     "text": [
      "Parsed with column specification:\n",
      "cols(\n",
      "  X1 = \u001b[32mcol_double()\u001b[39m,\n",
      "  X2 = \u001b[31mcol_character()\u001b[39m\n",
      ")\n",
      "\n"
     ]
    },
    {
     "name": "stdout",
     "output_type": "stream",
     "text": [
      "Rows: 561\n",
      "Columns: 2\n",
      "$ X1 \u001b[3m\u001b[90m<dbl>\u001b[39m\u001b[23m 1, 2, 3, 4, 5, 6, 7, 8, 9, 10, 11, 12, 13, 14, 15, 16, 17, 18, 19,…\n",
      "$ X2 \u001b[3m\u001b[90m<chr>\u001b[39m\u001b[23m \"tBodyAcc-mean()-X\", \"tBodyAcc-mean()-Y\", \"tBodyAcc-mean()-Z\", \"tB…\n",
      " chr [1:561] \"tBodyAcc_mean_X\" \"tBodyAcc_mean_Y\" \"tBodyAcc_mean_Z\" ...\n"
     ]
    }
   ],
   "source": [
    "# create a vector of features to use for col names of training set\n",
    "# X1 represents the row number\n",
    "# X2 is the features\n",
    "features_table <- read_delim(\"data/UCI HAR Dataset/features.txt\", delim = \" \", col_names = FALSE)\n",
    "glimpse(features_table)\n",
    "features_vector <- dplyr::pull(features_table, 'X2')\n",
    "features_vector_sub <- gsub(\"-\", \"_\", features_vector)\n",
    "\n",
    "features_vector_sub <- gsub(\"[()]\", \"\", features_vector_sub)\n",
    "glimpse(features_vector_sub)"
   ]
  },
  {
   "cell_type": "code",
   "execution_count": 187,
   "metadata": {},
   "outputs": [
    {
     "name": "stderr",
     "output_type": "stream",
     "text": [
      "Parsed with column specification:\n",
      "cols(\n",
      "  activity_label = \u001b[32mcol_double()\u001b[39m\n",
      ")\n",
      "\n",
      "Parsed with column specification:\n",
      "cols(\n",
      "  activity_label = \u001b[32mcol_double()\u001b[39m\n",
      ")\n",
      "\n"
     ]
    }
   ],
   "source": [
    "# create a table of activity labels to add such a variable as a column into the training set data frame.\n",
    "label_col_name_vec <- c('activity_label')\n",
    "y_training_label <- read_delim(\"data/UCI HAR Dataset/train/y_train.txt\", delim = \" \", col_names = label_col_name_vec) \n",
    "\n",
    "y_testing_label <- read_delim(\"data/UCI HAR Dataset/test/y_test.txt\", delim = \" \", col_names = label_col_name_vec) "
   ]
  },
  {
   "cell_type": "code",
   "execution_count": 188,
   "metadata": {},
   "outputs": [
    {
     "name": "stderr",
     "output_type": "stream",
     "text": [
      "Warning message:\n",
      "“Duplicated column names deduplicated: 'fBodyAcc_bandsEnergy_1,8' => 'fBodyAcc_bandsEnergy_1,8_1' [317], 'fBodyAcc_bandsEnergy_9,16' => 'fBodyAcc_bandsEnergy_9,16_1' [318], 'fBodyAcc_bandsEnergy_17,24' => 'fBodyAcc_bandsEnergy_17,24_1' [319], 'fBodyAcc_bandsEnergy_25,32' => 'fBodyAcc_bandsEnergy_25,32_1' [320], 'fBodyAcc_bandsEnergy_33,40' => 'fBodyAcc_bandsEnergy_33,40_1' [321], 'fBodyAcc_bandsEnergy_41,48' => 'fBodyAcc_bandsEnergy_41,48_1' [322], 'fBodyAcc_bandsEnergy_49,56' => 'fBodyAcc_bandsEnergy_49,56_1' [323], 'fBodyAcc_bandsEnergy_57,64' => 'fBodyAcc_bandsEnergy_57,64_1' [324], 'fBodyAcc_bandsEnergy_1,16' => 'fBodyAcc_bandsEnergy_1,16_1' [325], 'fBodyAcc_bandsEnergy_17,32' => 'fBodyAcc_bandsEnergy_17,32_1' [326], 'fBodyAcc_bandsEnergy_33,48' => 'fBodyAcc_bandsEnergy_33,48_1' [327], 'fBodyAcc_bandsEnergy_49,64' => 'fBodyAcc_bandsEnergy_49,64_1' [328], 'fBodyAcc_bandsEnergy_1,24' => 'fBodyAcc_bandsEnergy_1,24_1' [329], 'fBodyAcc_bandsEnergy_25,48' => 'fBodyAcc_bandsEnergy_25,48_1' [330], 'fBodyAcc_bandsEnergy_1,8' => 'fBodyAcc_bandsEnergy_1,8_2' [331], 'fBodyAcc_bandsEnergy_9,16' => 'fBodyAcc_bandsEnergy_9,16_2' [332], 'fBodyAcc_bandsEnergy_17,24' => 'fBodyAcc_bandsEnergy_17,24_2' [333], 'fBodyAcc_bandsEnergy_25,32' => 'fBodyAcc_bandsEnergy_25,32_2' [334], 'fBodyAcc_bandsEnergy_33,40' => 'fBodyAcc_bandsEnergy_33,40_2' [335], 'fBodyAcc_bandsEnergy_41,48' => 'fBodyAcc_bandsEnergy_41,48_2' [336], 'fBodyAcc_bandsEnergy_49,56' => 'fBodyAcc_bandsEnergy_49,56_2' [337], 'fBodyAcc_bandsEnergy_57,64' => 'fBodyAcc_bandsEnergy_57,64_2' [338], 'fBodyAcc_bandsEnergy_1,16' => 'fBodyAcc_bandsEnergy_1,16_2' [339], 'fBodyAcc_bandsEnergy_17,32' => 'fBodyAcc_bandsEnergy_17,32_2' [340], 'fBodyAcc_bandsEnergy_33,48' => 'fBodyAcc_bandsEnergy_33,48_2' [341], 'fBodyAcc_bandsEnergy_49,64' => 'fBodyAcc_bandsEnergy_49,64_2' [342], 'fBodyAcc_bandsEnergy_1,24' => 'fBodyAcc_bandsEnergy_1,24_2' [343], 'fBodyAcc_bandsEnergy_25,48' => 'fBodyAcc_bandsEnergy_25,48_2' [344], 'fBodyAccJerk_bandsEnergy_1,8' => 'fBodyAccJerk_bandsEnergy_1,8_1' [396], 'fBodyAccJerk_bandsEnergy_9,16' => 'fBodyAccJerk_bandsEnergy_9,16_1' [397], 'fBodyAccJerk_bandsEnergy_17,24' => 'fBodyAccJerk_bandsEnergy_17,24_1' [398], 'fBodyAccJerk_bandsEnergy_25,32' => 'fBodyAccJerk_bandsEnergy_25,32_1' [399], 'fBodyAccJerk_bandsEnergy_33,40' => 'fBodyAccJerk_bandsEnergy_33,40_1' [400], 'fBodyAccJerk_bandsEnergy_41,48' => 'fBodyAccJerk_bandsEnergy_41,48_1' [401], 'fBodyAccJerk_bandsEnergy_49,56' => 'fBodyAccJerk_bandsEnergy_49,56_1' [402], 'fBodyAccJerk_bandsEnergy_57,64' => 'fBodyAccJerk_bandsEnergy_57,64_1' [403], 'fBodyAccJerk_bandsEnergy_1,16' => 'fBodyAccJerk_bandsEnergy_1,16_1' [404], 'fBodyAccJerk_bandsEnergy_17,32' => 'fBodyAccJerk_bandsEnergy_17,32_1' [405], 'fBodyAccJerk_bandsEnergy_33,48' => 'fBodyAccJerk_bandsEnergy_33,48_1' [406], 'fBodyAccJerk_bandsEnergy_49,64' => 'fBodyAccJerk_bandsEnergy_49,64_1' [407], 'fBodyAccJerk_bandsEnergy_1,24' => 'fBodyAccJerk_bandsEnergy_1,24_1' [408], 'fBodyAccJerk_bandsEnergy_25,48' => 'fBodyAccJerk_bandsEnergy_25,48_1' [409], 'fBodyAccJerk_bandsEnergy_1,8' => 'fBodyAccJerk_bandsEnergy_1,8_2' [410], 'fBodyAccJerk_bandsEnergy_9,16' => 'fBodyAccJerk_bandsEnergy_9,16_2' [411], 'fBodyAccJerk_bandsEnergy_17,24' => 'fBodyAccJerk_bandsEnergy_17,24_2' [412], 'fBodyAccJerk_bandsEnergy_25,32' => 'fBodyAccJerk_bandsEnergy_25,32_2' [413], 'fBodyAccJerk_bandsEnergy_33,40' => 'fBodyAccJerk_bandsEnergy_33,40_2' [414], 'fBodyAccJerk_bandsEnergy_41,48' => 'fBodyAccJerk_bandsEnergy_41,48_2' [415], 'fBodyAccJerk_bandsEnergy_49,56' => 'fBodyAccJerk_bandsEnergy_49,56_2' [416], 'fBodyAccJerk_bandsEnergy_57,64' => 'fBodyAccJerk_bandsEnergy_57,64_2' [417], 'fBodyAccJerk_bandsEnergy_1,16' => 'fBodyAccJerk_bandsEnergy_1,16_2' [418], 'fBodyAccJerk_bandsEnergy_17,32' => 'fBodyAccJerk_bandsEnergy_17,32_2' [419], 'fBodyAccJerk_bandsEnergy_33,48' => 'fBodyAccJerk_bandsEnergy_33,48_2' [420], 'fBodyAccJerk_bandsEnergy_49,64' => 'fBodyAccJerk_bandsEnergy_49,64_2' [421], 'fBodyAccJerk_bandsEnergy_1,24' => 'fBodyAccJerk_bandsEnergy_1,24_2' [422], 'fBodyAccJerk_bandsEnergy_25,48' => 'fBodyAccJerk_bandsEnergy_25,48_2' [423], 'fBodyGyro_bandsEnergy_1,8' => 'fBodyGyro_bandsEnergy_1,8_1' [475], 'fBodyGyro_bandsEnergy_9,16' => 'fBodyGyro_bandsEnergy_9,16_1' [476], 'fBodyGyro_bandsEnergy_17,24' => 'fBodyGyro_bandsEnergy_17,24_1' [477], 'fBodyGyro_bandsEnergy_25,32' => 'fBodyGyro_bandsEnergy_25,32_1' [478], 'fBodyGyro_bandsEnergy_33,40' => 'fBodyGyro_bandsEnergy_33,40_1' [479], 'fBodyGyro_bandsEnergy_41,48' => 'fBodyGyro_bandsEnergy_41,48_1' [480], 'fBodyGyro_bandsEnergy_49,56' => 'fBodyGyro_bandsEnergy_49,56_1' [481], 'fBodyGyro_bandsEnergy_57,64' => 'fBodyGyro_bandsEnergy_57,64_1' [482], 'fBodyGyro_bandsEnergy_1,16' => 'fBodyGyro_bandsEnergy_1,16_1' [483], 'fBodyGyro_bandsEnergy_17,32' => 'fBodyGyro_bandsEnergy_17,32_1' [484], 'fBodyGyro_bandsEnergy_33,48' => 'fBodyGyro_bandsEnergy_33,48_1' [485], 'fBodyGyro_bandsEnergy_49,64' => 'fBodyGyro_bandsEnergy_49,64_1' [486], 'fBodyGyro_bandsEnergy_1,24' => 'fBodyGyro_bandsEnergy_1,24_1' [487], 'fBodyGyro_bandsEnergy_25,48' => 'fBodyGyro_bandsEnergy_25,48_1' [488], 'fBodyGyro_bandsEnergy_1,8' => 'fBodyGyro_bandsEnergy_1,8_2' [489], 'fBodyGyro_bandsEnergy_9,16' => 'fBodyGyro_bandsEnergy_9,16_2' [490], 'fBodyGyro_bandsEnergy_17,24' => 'fBodyGyro_bandsEnergy_17,24_2' [491], 'fBodyGyro_bandsEnergy_25,32' => 'fBodyGyro_bandsEnergy_25,32_2' [492], 'fBodyGyro_bandsEnergy_33,40' => 'fBodyGyro_bandsEnergy_33,40_2' [493], 'fBodyGyro_bandsEnergy_41,48' => 'fBodyGyro_bandsEnergy_41,48_2' [494], 'fBodyGyro_bandsEnergy_49,56' => 'fBodyGyro_bandsEnergy_49,56_2' [495], 'fBodyGyro_bandsEnergy_57,64' => 'fBodyGyro_bandsEnergy_57,64_2' [496], 'fBodyGyro_bandsEnergy_1,16' => 'fBodyGyro_bandsEnergy_1,16_2' [497], 'fBodyGyro_bandsEnergy_17,32' => 'fBodyGyro_bandsEnergy_17,32_2' [498], 'fBodyGyro_bandsEnergy_33,48' => 'fBodyGyro_bandsEnergy_33,48_2' [499], 'fBodyGyro_bandsEnergy_49,64' => 'fBodyGyro_bandsEnergy_49,64_2' [500], 'fBodyGyro_bandsEnergy_1,24' => 'fBodyGyro_bandsEnergy_1,24_2' [501], 'fBodyGyro_bandsEnergy_25,48' => 'fBodyGyro_bandsEnergy_25,48_2' [502]”\n",
      "Parsed with column specification:\n",
      "cols(\n",
      "  .default = col_character(),\n",
      "  tGravityAcc_std_X = \u001b[32mcol_double()\u001b[39m,\n",
      "  tGravityAcc_mad_X = \u001b[32mcol_double()\u001b[39m,\n",
      "  tGravityAcc_iqr_X = \u001b[32mcol_double()\u001b[39m,\n",
      "  tBodyAccJerk_std_Z = \u001b[32mcol_double()\u001b[39m,\n",
      "  tBodyAccJerk_mad_Z = \u001b[32mcol_double()\u001b[39m,\n",
      "  tBodyAccJerk_max_Z = \u001b[32mcol_double()\u001b[39m,\n",
      "  tBodyAccJerk_energy_Z = \u001b[32mcol_double()\u001b[39m,\n",
      "  tBodyAccJerk_iqr_Z = \u001b[32mcol_double()\u001b[39m,\n",
      "  tBodyGyro_max_Y = \u001b[32mcol_double()\u001b[39m,\n",
      "  tBodyGyro_energy_X = \u001b[32mcol_double()\u001b[39m,\n",
      "  tBodyGyro_energy_Y = \u001b[32mcol_double()\u001b[39m,\n",
      "  tBodyGyro_energy_Z = \u001b[32mcol_double()\u001b[39m,\n",
      "  tBodyGyro_iqr_Z = \u001b[32mcol_double()\u001b[39m,\n",
      "  tBodyGyroJerk_sma = \u001b[32mcol_double()\u001b[39m,\n",
      "  tBodyGyroJerk_energy_X = \u001b[32mcol_double()\u001b[39m,\n",
      "  tBodyGyroJerk_energy_Y = \u001b[32mcol_double()\u001b[39m,\n",
      "  tBodyGyroJerk_energy_Z = \u001b[32mcol_double()\u001b[39m,\n",
      "  tBodyGyroJerk_iqr_Y = \u001b[32mcol_double()\u001b[39m,\n",
      "  tBodyAccJerkMag_energy = \u001b[32mcol_double()\u001b[39m,\n",
      "  tBodyGyroMag_energy = \u001b[32mcol_double()\u001b[39m\n",
      "  # ... with 93 more columns\n",
      ")\n",
      "\n",
      "See spec(...) for full column specifications.\n",
      "\n",
      "Warning message:\n",
      "“4276 parsing failures.\n",
      " row               col expected          actual                                     file\n",
      "1063 tGravityAcc_std_X a double  3.8173281e-001 'data/UCI HAR Dataset/train/X_train.txt'\n",
      "1063 tGravityAcc_mad_X a double  3.5027279e-001 'data/UCI HAR Dataset/train/X_train.txt'\n",
      "1063 tGravityAcc_iqr_X a double  1.8438252e-001 'data/UCI HAR Dataset/train/X_train.txt'\n",
      "1210 tGravityAcc_std_X a double  1.0000000e+000 'data/UCI HAR Dataset/train/X_train.txt'\n",
      "1210 tGravityAcc_mad_X a double  1.0000000e+000 'data/UCI HAR Dataset/train/X_train.txt'\n",
      ".... ................. ........ ............... ........................................\n",
      "See problems(...) for more details.\n",
      "”\n",
      "Warning message:\n",
      "“Duplicated column names deduplicated: 'fBodyAcc_bandsEnergy_1,8' => 'fBodyAcc_bandsEnergy_1,8_1' [317], 'fBodyAcc_bandsEnergy_9,16' => 'fBodyAcc_bandsEnergy_9,16_1' [318], 'fBodyAcc_bandsEnergy_17,24' => 'fBodyAcc_bandsEnergy_17,24_1' [319], 'fBodyAcc_bandsEnergy_25,32' => 'fBodyAcc_bandsEnergy_25,32_1' [320], 'fBodyAcc_bandsEnergy_33,40' => 'fBodyAcc_bandsEnergy_33,40_1' [321], 'fBodyAcc_bandsEnergy_41,48' => 'fBodyAcc_bandsEnergy_41,48_1' [322], 'fBodyAcc_bandsEnergy_49,56' => 'fBodyAcc_bandsEnergy_49,56_1' [323], 'fBodyAcc_bandsEnergy_57,64' => 'fBodyAcc_bandsEnergy_57,64_1' [324], 'fBodyAcc_bandsEnergy_1,16' => 'fBodyAcc_bandsEnergy_1,16_1' [325], 'fBodyAcc_bandsEnergy_17,32' => 'fBodyAcc_bandsEnergy_17,32_1' [326], 'fBodyAcc_bandsEnergy_33,48' => 'fBodyAcc_bandsEnergy_33,48_1' [327], 'fBodyAcc_bandsEnergy_49,64' => 'fBodyAcc_bandsEnergy_49,64_1' [328], 'fBodyAcc_bandsEnergy_1,24' => 'fBodyAcc_bandsEnergy_1,24_1' [329], 'fBodyAcc_bandsEnergy_25,48' => 'fBodyAcc_bandsEnergy_25,48_1' [330], 'fBodyAcc_bandsEnergy_1,8' => 'fBodyAcc_bandsEnergy_1,8_2' [331], 'fBodyAcc_bandsEnergy_9,16' => 'fBodyAcc_bandsEnergy_9,16_2' [332], 'fBodyAcc_bandsEnergy_17,24' => 'fBodyAcc_bandsEnergy_17,24_2' [333], 'fBodyAcc_bandsEnergy_25,32' => 'fBodyAcc_bandsEnergy_25,32_2' [334], 'fBodyAcc_bandsEnergy_33,40' => 'fBodyAcc_bandsEnergy_33,40_2' [335], 'fBodyAcc_bandsEnergy_41,48' => 'fBodyAcc_bandsEnergy_41,48_2' [336], 'fBodyAcc_bandsEnergy_49,56' => 'fBodyAcc_bandsEnergy_49,56_2' [337], 'fBodyAcc_bandsEnergy_57,64' => 'fBodyAcc_bandsEnergy_57,64_2' [338], 'fBodyAcc_bandsEnergy_1,16' => 'fBodyAcc_bandsEnergy_1,16_2' [339], 'fBodyAcc_bandsEnergy_17,32' => 'fBodyAcc_bandsEnergy_17,32_2' [340], 'fBodyAcc_bandsEnergy_33,48' => 'fBodyAcc_bandsEnergy_33,48_2' [341], 'fBodyAcc_bandsEnergy_49,64' => 'fBodyAcc_bandsEnergy_49,64_2' [342], 'fBodyAcc_bandsEnergy_1,24' => 'fBodyAcc_bandsEnergy_1,24_2' [343], 'fBodyAcc_bandsEnergy_25,48' => 'fBodyAcc_bandsEnergy_25,48_2' [344], 'fBodyAccJerk_bandsEnergy_1,8' => 'fBodyAccJerk_bandsEnergy_1,8_1' [396], 'fBodyAccJerk_bandsEnergy_9,16' => 'fBodyAccJerk_bandsEnergy_9,16_1' [397], 'fBodyAccJerk_bandsEnergy_17,24' => 'fBodyAccJerk_bandsEnergy_17,24_1' [398], 'fBodyAccJerk_bandsEnergy_25,32' => 'fBodyAccJerk_bandsEnergy_25,32_1' [399], 'fBodyAccJerk_bandsEnergy_33,40' => 'fBodyAccJerk_bandsEnergy_33,40_1' [400], 'fBodyAccJerk_bandsEnergy_41,48' => 'fBodyAccJerk_bandsEnergy_41,48_1' [401], 'fBodyAccJerk_bandsEnergy_49,56' => 'fBodyAccJerk_bandsEnergy_49,56_1' [402], 'fBodyAccJerk_bandsEnergy_57,64' => 'fBodyAccJerk_bandsEnergy_57,64_1' [403], 'fBodyAccJerk_bandsEnergy_1,16' => 'fBodyAccJerk_bandsEnergy_1,16_1' [404], 'fBodyAccJerk_bandsEnergy_17,32' => 'fBodyAccJerk_bandsEnergy_17,32_1' [405], 'fBodyAccJerk_bandsEnergy_33,48' => 'fBodyAccJerk_bandsEnergy_33,48_1' [406], 'fBodyAccJerk_bandsEnergy_49,64' => 'fBodyAccJerk_bandsEnergy_49,64_1' [407], 'fBodyAccJerk_bandsEnergy_1,24' => 'fBodyAccJerk_bandsEnergy_1,24_1' [408], 'fBodyAccJerk_bandsEnergy_25,48' => 'fBodyAccJerk_bandsEnergy_25,48_1' [409], 'fBodyAccJerk_bandsEnergy_1,8' => 'fBodyAccJerk_bandsEnergy_1,8_2' [410], 'fBodyAccJerk_bandsEnergy_9,16' => 'fBodyAccJerk_bandsEnergy_9,16_2' [411], 'fBodyAccJerk_bandsEnergy_17,24' => 'fBodyAccJerk_bandsEnergy_17,24_2' [412], 'fBodyAccJerk_bandsEnergy_25,32' => 'fBodyAccJerk_bandsEnergy_25,32_2' [413], 'fBodyAccJerk_bandsEnergy_33,40' => 'fBodyAccJerk_bandsEnergy_33,40_2' [414], 'fBodyAccJerk_bandsEnergy_41,48' => 'fBodyAccJerk_bandsEnergy_41,48_2' [415], 'fBodyAccJerk_bandsEnergy_49,56' => 'fBodyAccJerk_bandsEnergy_49,56_2' [416], 'fBodyAccJerk_bandsEnergy_57,64' => 'fBodyAccJerk_bandsEnergy_57,64_2' [417], 'fBodyAccJerk_bandsEnergy_1,16' => 'fBodyAccJerk_bandsEnergy_1,16_2' [418], 'fBodyAccJerk_bandsEnergy_17,32' => 'fBodyAccJerk_bandsEnergy_17,32_2' [419], 'fBodyAccJerk_bandsEnergy_33,48' => 'fBodyAccJerk_bandsEnergy_33,48_2' [420], 'fBodyAccJerk_bandsEnergy_49,64' => 'fBodyAccJerk_bandsEnergy_49,64_2' [421], 'fBodyAccJerk_bandsEnergy_1,24' => 'fBodyAccJerk_bandsEnergy_1,24_2' [422], 'fBodyAccJerk_bandsEnergy_25,48' => 'fBodyAccJerk_bandsEnergy_25,48_2' [423], 'fBodyGyro_bandsEnergy_1,8' => 'fBodyGyro_bandsEnergy_1,8_1' [475], 'fBodyGyro_bandsEnergy_9,16' => 'fBodyGyro_bandsEnergy_9,16_1' [476], 'fBodyGyro_bandsEnergy_17,24' => 'fBodyGyro_bandsEnergy_17,24_1' [477], 'fBodyGyro_bandsEnergy_25,32' => 'fBodyGyro_bandsEnergy_25,32_1' [478], 'fBodyGyro_bandsEnergy_33,40' => 'fBodyGyro_bandsEnergy_33,40_1' [479], 'fBodyGyro_bandsEnergy_41,48' => 'fBodyGyro_bandsEnergy_41,48_1' [480], 'fBodyGyro_bandsEnergy_49,56' => 'fBodyGyro_bandsEnergy_49,56_1' [481], 'fBodyGyro_bandsEnergy_57,64' => 'fBodyGyro_bandsEnergy_57,64_1' [482], 'fBodyGyro_bandsEnergy_1,16' => 'fBodyGyro_bandsEnergy_1,16_1' [483], 'fBodyGyro_bandsEnergy_17,32' => 'fBodyGyro_bandsEnergy_17,32_1' [484], 'fBodyGyro_bandsEnergy_33,48' => 'fBodyGyro_bandsEnergy_33,48_1' [485], 'fBodyGyro_bandsEnergy_49,64' => 'fBodyGyro_bandsEnergy_49,64_1' [486], 'fBodyGyro_bandsEnergy_1,24' => 'fBodyGyro_bandsEnergy_1,24_1' [487], 'fBodyGyro_bandsEnergy_25,48' => 'fBodyGyro_bandsEnergy_25,48_1' [488], 'fBodyGyro_bandsEnergy_1,8' => 'fBodyGyro_bandsEnergy_1,8_2' [489], 'fBodyGyro_bandsEnergy_9,16' => 'fBodyGyro_bandsEnergy_9,16_2' [490], 'fBodyGyro_bandsEnergy_17,24' => 'fBodyGyro_bandsEnergy_17,24_2' [491], 'fBodyGyro_bandsEnergy_25,32' => 'fBodyGyro_bandsEnergy_25,32_2' [492], 'fBodyGyro_bandsEnergy_33,40' => 'fBodyGyro_bandsEnergy_33,40_2' [493], 'fBodyGyro_bandsEnergy_41,48' => 'fBodyGyro_bandsEnergy_41,48_2' [494], 'fBodyGyro_bandsEnergy_49,56' => 'fBodyGyro_bandsEnergy_49,56_2' [495], 'fBodyGyro_bandsEnergy_57,64' => 'fBodyGyro_bandsEnergy_57,64_2' [496], 'fBodyGyro_bandsEnergy_1,16' => 'fBodyGyro_bandsEnergy_1,16_2' [497], 'fBodyGyro_bandsEnergy_17,32' => 'fBodyGyro_bandsEnergy_17,32_2' [498], 'fBodyGyro_bandsEnergy_33,48' => 'fBodyGyro_bandsEnergy_33,48_2' [499], 'fBodyGyro_bandsEnergy_49,64' => 'fBodyGyro_bandsEnergy_49,64_2' [500], 'fBodyGyro_bandsEnergy_1,24' => 'fBodyGyro_bandsEnergy_1,24_2' [501], 'fBodyGyro_bandsEnergy_25,48' => 'fBodyGyro_bandsEnergy_25,48_2' [502]”\n",
      "Parsed with column specification:\n",
      "cols(\n",
      "  .default = col_character(),\n",
      "  tBodyAcc_energy_X = \u001b[32mcol_double()\u001b[39m,\n",
      "  tBodyAcc_energy_Y = \u001b[32mcol_double()\u001b[39m,\n",
      "  tBodyAcc_energy_Z = \u001b[32mcol_double()\u001b[39m,\n",
      "  tGravityAcc_std_Y = \u001b[32mcol_double()\u001b[39m,\n",
      "  tGravityAcc_mad_Y = \u001b[32mcol_double()\u001b[39m,\n",
      "  tGravityAcc_iqr_Y = \u001b[32mcol_double()\u001b[39m,\n",
      "  tBodyAccJerk_std_Z = \u001b[32mcol_double()\u001b[39m,\n",
      "  tBodyAccJerk_mad_Z = \u001b[32mcol_double()\u001b[39m,\n",
      "  tBodyAccJerk_energy_X = \u001b[32mcol_double()\u001b[39m,\n",
      "  tBodyAccJerk_energy_Z = \u001b[32mcol_double()\u001b[39m,\n",
      "  tBodyAccJerk_iqr_Z = \u001b[32mcol_double()\u001b[39m,\n",
      "  tBodyGyro_std_Y = \u001b[32mcol_double()\u001b[39m,\n",
      "  tBodyGyro_mad_Y = \u001b[32mcol_double()\u001b[39m,\n",
      "  tBodyGyro_energy_Y = \u001b[32mcol_double()\u001b[39m,\n",
      "  tBodyGyro_iqr_Y = \u001b[32mcol_double()\u001b[39m,\n",
      "  tBodyGyroJerk_std_Y = \u001b[32mcol_double()\u001b[39m,\n",
      "  tBodyGyroJerk_mad_Y = \u001b[32mcol_double()\u001b[39m,\n",
      "  tBodyGyroJerk_max_Y = \u001b[32mcol_double()\u001b[39m,\n",
      "  tBodyGyroJerk_sma = \u001b[32mcol_double()\u001b[39m,\n",
      "  tBodyGyroJerk_energy_X = \u001b[32mcol_double()\u001b[39m\n",
      "  # ... with 101 more columns\n",
      ")\n",
      "\n",
      "See spec(...) for full column specifications.\n",
      "\n",
      "Warning message:\n",
      "“912 parsing failures.\n",
      " row                   col expected          actual                                   file\n",
      "1013 tBodyAcc_energy_X     a double  7.4740648e-002 'data/UCI HAR Dataset/test/X_test.txt'\n",
      "1013 tBodyAccJerk_energy_X a double  3.0613359e-002 'data/UCI HAR Dataset/test/X_test.txt'\n",
      "1013 tBodyAccMag_energy    a double  4.8798194e-002 'data/UCI HAR Dataset/test/X_test.txt'\n",
      "1013 tGravityAccMag_energy a double  4.8798194e-002 'data/UCI HAR Dataset/test/X_test.txt'\n",
      "1013 fBodyAcc_energy_X     a double  7.5111130e-002 'data/UCI HAR Dataset/test/X_test.txt'\n",
      ".... ..................... ........ ............... ......................................\n",
      "See problems(...) for more details.\n",
      "”\n"
     ]
    }
   ],
   "source": [
    "# read feature values \n",
    "x_training_data <- read_delim(\"data/UCI HAR Dataset/train/X_train.txt\", delim = \" \", col_names = features_vector_sub)\n",
    "\n",
    "x_testing_data <- read_delim(\"data/UCI HAR Dataset/test/X_test.txt\", delim = \" \", col_names = features_vector_sub)"
   ]
  },
  {
   "cell_type": "code",
   "execution_count": 189,
   "metadata": {},
   "outputs": [
    {
     "data": {
      "text/html": [
       "<table>\n",
       "<caption>A tibble: 6 × 562</caption>\n",
       "<thead>\n",
       "\t<tr><th scope=col>tBodyAcc_mean_X</th><th scope=col>tBodyAcc_mean_Y</th><th scope=col>tBodyAcc_mean_Z</th><th scope=col>tBodyAcc_std_X</th><th scope=col>tBodyAcc_std_Y</th><th scope=col>tBodyAcc_std_Z</th><th scope=col>tBodyAcc_mad_X</th><th scope=col>tBodyAcc_mad_Y</th><th scope=col>tBodyAcc_mad_Z</th><th scope=col>tBodyAcc_max_X</th><th scope=col>⋯</th><th scope=col>fBodyBodyGyroJerkMag_skewness</th><th scope=col>fBodyBodyGyroJerkMag_kurtosis</th><th scope=col>angletBodyAccMean,gravity</th><th scope=col>angletBodyAccJerkMean,gravityMean</th><th scope=col>angletBodyGyroMean,gravityMean</th><th scope=col>angletBodyGyroJerkMean,gravityMean</th><th scope=col>angleX,gravityMean</th><th scope=col>angleY,gravityMean</th><th scope=col>angleZ,gravityMean</th><th scope=col>activity_label</th></tr>\n",
       "\t<tr><th scope=col>&lt;chr&gt;</th><th scope=col>&lt;chr&gt;</th><th scope=col>&lt;chr&gt;</th><th scope=col>&lt;chr&gt;</th><th scope=col>&lt;chr&gt;</th><th scope=col>&lt;chr&gt;</th><th scope=col>&lt;chr&gt;</th><th scope=col>&lt;chr&gt;</th><th scope=col>&lt;chr&gt;</th><th scope=col>&lt;chr&gt;</th><th scope=col>⋯</th><th scope=col>&lt;chr&gt;</th><th scope=col>&lt;chr&gt;</th><th scope=col>&lt;chr&gt;</th><th scope=col>&lt;chr&gt;</th><th scope=col>&lt;chr&gt;</th><th scope=col>&lt;chr&gt;</th><th scope=col>&lt;chr&gt;</th><th scope=col>&lt;chr&gt;</th><th scope=col>&lt;chr&gt;</th><th scope=col>&lt;dbl&gt;</th></tr>\n",
       "</thead>\n",
       "<tbody>\n",
       "\t<tr><td>  2.3796648e-001</td><td>-1.0878070e-003</td><td>-1.4832590e-001</td><td>-2.1894876e-001</td><td>-1.2926748e-002</td><td> 1.7001874e-001</td><td>-3.0959929e-001</td><td>-4.1392263e-002</td><td> 2.0745436e-001</td><td> 2.1079544e-001</td><td>⋯</td><td>-5.9248831e-001</td><td>-8.6723607e-001</td><td> 3.5277575e-001</td><td>-6.0481685e-001</td><td>-7.7478312e-001</td><td> 7.3014246e-001</td><td>-7.9727183e-001</td><td> 2.3499575e-001</td><td> 4.8907023e-002</td><td>2</td></tr>\n",
       "\t<tr><td>  2.9966534e-001</td><td>-5.7193414e-002</td><td>-1.8123302e-001</td><td>-1.9538652e-001</td><td> 3.9904850e-002</td><td> 7.7078081e-002</td><td>-2.8230064e-001</td><td> 4.3615631e-002</td><td> 6.0410083e-002</td><td> 2.1079544e-001</td><td>⋯</td><td>-5.8843274e-001</td><td>-8.8032443e-001</td><td>-1.9043686e-001</td><td> 8.2971842e-001</td><td> 2.0697215e-001</td><td>-4.2561858e-001</td><td>-7.9188305e-001</td><td> 2.3860439e-001</td><td> 4.9819139e-002</td><td>2</td></tr>\n",
       "\t<tr><td>  2.7385271e-001</td><td>-7.7493259e-003</td><td>-1.4746837e-001</td><td>-2.3530853e-001</td><td> 4.8162805e-003</td><td> 5.9279994e-002</td><td>-3.2255234e-001</td><td>-2.9456250e-002</td><td> 8.0585116e-002</td><td> 1.1744028e-001</td><td>⋯</td><td>-3.9073832e-001</td><td>-6.8074445e-001</td><td> 6.4906712e-002</td><td> 8.7567905e-001</td><td>-8.7903279e-001</td><td> 4.0021936e-001</td><td>-7.7183960e-001</td><td> 2.5267595e-001</td><td> 5.0052558e-002</td><td>2</td></tr>\n",
       "\t<tr><td>  2.7338737e-001</td><td>-1.7010616e-002</td><td>-4.5021828e-002</td><td>-2.1821818e-001</td><td>-1.0382198e-001</td><td> 2.7453270e-001</td><td>-3.0451515e-001</td><td>-9.8913034e-002</td><td> 3.3258449e-001</td><td> 4.3998772e-002</td><td>⋯</td><td> 2.5145333e-002</td><td>-3.0402936e-001</td><td> 5.2805928e-002</td><td>-2.6672437e-001</td><td> 8.6440401e-001</td><td> 7.0116882e-001</td><td>-7.7913261e-001</td><td> 2.4914484e-001</td><td> 4.0811188e-002</td><td>2</td></tr>\n",
       "\t<tr><td>  2.8965416e-001</td><td>-1.8843044e-002</td><td>-1.5828059e-001</td><td>-2.1913944e-001</td><td>-1.1141169e-001</td><td> 2.6889320e-001</td><td>-3.1048749e-001</td><td>-6.8200325e-002</td><td> 3.1947326e-001</td><td> 1.0170184e-001</td><td>⋯</td><td> 6.3906883e-002</td><td>-3.4431361e-001</td><td>-1.0136012e-001</td><td> 7.0073969e-001</td><td> 9.3667394e-001</td><td>-5.8947895e-001</td><td>-7.8518142e-001</td><td> 2.4643223e-001</td><td> 2.5339478e-002</td><td>2</td></tr>\n",
       "\t<tr><td>  3.5150347e-001</td><td>-1.2423118e-002</td><td>-2.0386717e-001</td><td>-2.6927044e-001</td><td>-8.7211541e-002</td><td> 1.7740393e-001</td><td>-3.7740405e-001</td><td>-3.8678063e-002</td><td> 2.2942952e-001</td><td> 2.6901269e-001</td><td>⋯</td><td>-3.8705200e-001</td><td>-7.4073820e-001</td><td>-2.8008805e-001</td><td>-7.7392783e-003</td><td>-5.6087594e-002</td><td>-6.1695645e-001</td><td>-7.8326693e-001</td><td> 2.4680852e-001</td><td> 3.6694843e-002</td><td>2</td></tr>\n",
       "</tbody>\n",
       "</table>\n"
      ],
      "text/latex": [
       "A tibble: 6 × 562\n",
       "\\begin{tabular}{lllllllllllllllllllll}\n",
       " tBodyAcc\\_mean\\_X & tBodyAcc\\_mean\\_Y & tBodyAcc\\_mean\\_Z & tBodyAcc\\_std\\_X & tBodyAcc\\_std\\_Y & tBodyAcc\\_std\\_Z & tBodyAcc\\_mad\\_X & tBodyAcc\\_mad\\_Y & tBodyAcc\\_mad\\_Z & tBodyAcc\\_max\\_X & ⋯ & fBodyBodyGyroJerkMag\\_skewness & fBodyBodyGyroJerkMag\\_kurtosis & angletBodyAccMean,gravity & angletBodyAccJerkMean,gravityMean & angletBodyGyroMean,gravityMean & angletBodyGyroJerkMean,gravityMean & angleX,gravityMean & angleY,gravityMean & angleZ,gravityMean & activity\\_label\\\\\n",
       " <chr> & <chr> & <chr> & <chr> & <chr> & <chr> & <chr> & <chr> & <chr> & <chr> & ⋯ & <chr> & <chr> & <chr> & <chr> & <chr> & <chr> & <chr> & <chr> & <chr> & <dbl>\\\\\n",
       "\\hline\n",
       "\t   2.3796648e-001 & -1.0878070e-003 & -1.4832590e-001 & -2.1894876e-001 & -1.2926748e-002 &  1.7001874e-001 & -3.0959929e-001 & -4.1392263e-002 &  2.0745436e-001 &  2.1079544e-001 & ⋯ & -5.9248831e-001 & -8.6723607e-001 &  3.5277575e-001 & -6.0481685e-001 & -7.7478312e-001 &  7.3014246e-001 & -7.9727183e-001 &  2.3499575e-001 &  4.8907023e-002 & 2\\\\\n",
       "\t   2.9966534e-001 & -5.7193414e-002 & -1.8123302e-001 & -1.9538652e-001 &  3.9904850e-002 &  7.7078081e-002 & -2.8230064e-001 &  4.3615631e-002 &  6.0410083e-002 &  2.1079544e-001 & ⋯ & -5.8843274e-001 & -8.8032443e-001 & -1.9043686e-001 &  8.2971842e-001 &  2.0697215e-001 & -4.2561858e-001 & -7.9188305e-001 &  2.3860439e-001 &  4.9819139e-002 & 2\\\\\n",
       "\t   2.7385271e-001 & -7.7493259e-003 & -1.4746837e-001 & -2.3530853e-001 &  4.8162805e-003 &  5.9279994e-002 & -3.2255234e-001 & -2.9456250e-002 &  8.0585116e-002 &  1.1744028e-001 & ⋯ & -3.9073832e-001 & -6.8074445e-001 &  6.4906712e-002 &  8.7567905e-001 & -8.7903279e-001 &  4.0021936e-001 & -7.7183960e-001 &  2.5267595e-001 &  5.0052558e-002 & 2\\\\\n",
       "\t   2.7338737e-001 & -1.7010616e-002 & -4.5021828e-002 & -2.1821818e-001 & -1.0382198e-001 &  2.7453270e-001 & -3.0451515e-001 & -9.8913034e-002 &  3.3258449e-001 &  4.3998772e-002 & ⋯ &  2.5145333e-002 & -3.0402936e-001 &  5.2805928e-002 & -2.6672437e-001 &  8.6440401e-001 &  7.0116882e-001 & -7.7913261e-001 &  2.4914484e-001 &  4.0811188e-002 & 2\\\\\n",
       "\t   2.8965416e-001 & -1.8843044e-002 & -1.5828059e-001 & -2.1913944e-001 & -1.1141169e-001 &  2.6889320e-001 & -3.1048749e-001 & -6.8200325e-002 &  3.1947326e-001 &  1.0170184e-001 & ⋯ &  6.3906883e-002 & -3.4431361e-001 & -1.0136012e-001 &  7.0073969e-001 &  9.3667394e-001 & -5.8947895e-001 & -7.8518142e-001 &  2.4643223e-001 &  2.5339478e-002 & 2\\\\\n",
       "\t   3.5150347e-001 & -1.2423118e-002 & -2.0386717e-001 & -2.6927044e-001 & -8.7211541e-002 &  1.7740393e-001 & -3.7740405e-001 & -3.8678063e-002 &  2.2942952e-001 &  2.6901269e-001 & ⋯ & -3.8705200e-001 & -7.4073820e-001 & -2.8008805e-001 & -7.7392783e-003 & -5.6087594e-002 & -6.1695645e-001 & -7.8326693e-001 &  2.4680852e-001 &  3.6694843e-002 & 2\\\\\n",
       "\\end{tabular}\n"
      ],
      "text/markdown": [
       "\n",
       "A tibble: 6 × 562\n",
       "\n",
       "| tBodyAcc_mean_X &lt;chr&gt; | tBodyAcc_mean_Y &lt;chr&gt; | tBodyAcc_mean_Z &lt;chr&gt; | tBodyAcc_std_X &lt;chr&gt; | tBodyAcc_std_Y &lt;chr&gt; | tBodyAcc_std_Z &lt;chr&gt; | tBodyAcc_mad_X &lt;chr&gt; | tBodyAcc_mad_Y &lt;chr&gt; | tBodyAcc_mad_Z &lt;chr&gt; | tBodyAcc_max_X &lt;chr&gt; | ⋯ ⋯ | fBodyBodyGyroJerkMag_skewness &lt;chr&gt; | fBodyBodyGyroJerkMag_kurtosis &lt;chr&gt; | angletBodyAccMean,gravity &lt;chr&gt; | angletBodyAccJerkMean,gravityMean &lt;chr&gt; | angletBodyGyroMean,gravityMean &lt;chr&gt; | angletBodyGyroJerkMean,gravityMean &lt;chr&gt; | angleX,gravityMean &lt;chr&gt; | angleY,gravityMean &lt;chr&gt; | angleZ,gravityMean &lt;chr&gt; | activity_label &lt;dbl&gt; |\n",
       "|---|---|---|---|---|---|---|---|---|---|---|---|---|---|---|---|---|---|---|---|---|\n",
       "|   2.3796648e-001 | -1.0878070e-003 | -1.4832590e-001 | -2.1894876e-001 | -1.2926748e-002 |  1.7001874e-001 | -3.0959929e-001 | -4.1392263e-002 |  2.0745436e-001 |  2.1079544e-001 | ⋯ | -5.9248831e-001 | -8.6723607e-001 |  3.5277575e-001 | -6.0481685e-001 | -7.7478312e-001 |  7.3014246e-001 | -7.9727183e-001 |  2.3499575e-001 |  4.8907023e-002 | 2 |\n",
       "|   2.9966534e-001 | -5.7193414e-002 | -1.8123302e-001 | -1.9538652e-001 |  3.9904850e-002 |  7.7078081e-002 | -2.8230064e-001 |  4.3615631e-002 |  6.0410083e-002 |  2.1079544e-001 | ⋯ | -5.8843274e-001 | -8.8032443e-001 | -1.9043686e-001 |  8.2971842e-001 |  2.0697215e-001 | -4.2561858e-001 | -7.9188305e-001 |  2.3860439e-001 |  4.9819139e-002 | 2 |\n",
       "|   2.7385271e-001 | -7.7493259e-003 | -1.4746837e-001 | -2.3530853e-001 |  4.8162805e-003 |  5.9279994e-002 | -3.2255234e-001 | -2.9456250e-002 |  8.0585116e-002 |  1.1744028e-001 | ⋯ | -3.9073832e-001 | -6.8074445e-001 |  6.4906712e-002 |  8.7567905e-001 | -8.7903279e-001 |  4.0021936e-001 | -7.7183960e-001 |  2.5267595e-001 |  5.0052558e-002 | 2 |\n",
       "|   2.7338737e-001 | -1.7010616e-002 | -4.5021828e-002 | -2.1821818e-001 | -1.0382198e-001 |  2.7453270e-001 | -3.0451515e-001 | -9.8913034e-002 |  3.3258449e-001 |  4.3998772e-002 | ⋯ |  2.5145333e-002 | -3.0402936e-001 |  5.2805928e-002 | -2.6672437e-001 |  8.6440401e-001 |  7.0116882e-001 | -7.7913261e-001 |  2.4914484e-001 |  4.0811188e-002 | 2 |\n",
       "|   2.8965416e-001 | -1.8843044e-002 | -1.5828059e-001 | -2.1913944e-001 | -1.1141169e-001 |  2.6889320e-001 | -3.1048749e-001 | -6.8200325e-002 |  3.1947326e-001 |  1.0170184e-001 | ⋯ |  6.3906883e-002 | -3.4431361e-001 | -1.0136012e-001 |  7.0073969e-001 |  9.3667394e-001 | -5.8947895e-001 | -7.8518142e-001 |  2.4643223e-001 |  2.5339478e-002 | 2 |\n",
       "|   3.5150347e-001 | -1.2423118e-002 | -2.0386717e-001 | -2.6927044e-001 | -8.7211541e-002 |  1.7740393e-001 | -3.7740405e-001 | -3.8678063e-002 |  2.2942952e-001 |  2.6901269e-001 | ⋯ | -3.8705200e-001 | -7.4073820e-001 | -2.8008805e-001 | -7.7392783e-003 | -5.6087594e-002 | -6.1695645e-001 | -7.8326693e-001 |  2.4680852e-001 |  3.6694843e-002 | 2 |\n",
       "\n"
      ],
      "text/plain": [
       "  tBodyAcc_mean_X  tBodyAcc_mean_Y tBodyAcc_mean_Z tBodyAcc_std_X \n",
       "1   2.3796648e-001 -1.0878070e-003 -1.4832590e-001 -2.1894876e-001\n",
       "2   2.9966534e-001 -5.7193414e-002 -1.8123302e-001 -1.9538652e-001\n",
       "3   2.7385271e-001 -7.7493259e-003 -1.4746837e-001 -2.3530853e-001\n",
       "4   2.7338737e-001 -1.7010616e-002 -4.5021828e-002 -2.1821818e-001\n",
       "5   2.8965416e-001 -1.8843044e-002 -1.5828059e-001 -2.1913944e-001\n",
       "6   3.5150347e-001 -1.2423118e-002 -2.0386717e-001 -2.6927044e-001\n",
       "  tBodyAcc_std_Y  tBodyAcc_std_Z  tBodyAcc_mad_X  tBodyAcc_mad_Y \n",
       "1 -1.2926748e-002  1.7001874e-001 -3.0959929e-001 -4.1392263e-002\n",
       "2  3.9904850e-002  7.7078081e-002 -2.8230064e-001  4.3615631e-002\n",
       "3  4.8162805e-003  5.9279994e-002 -3.2255234e-001 -2.9456250e-002\n",
       "4 -1.0382198e-001  2.7453270e-001 -3.0451515e-001 -9.8913034e-002\n",
       "5 -1.1141169e-001  2.6889320e-001 -3.1048749e-001 -6.8200325e-002\n",
       "6 -8.7211541e-002  1.7740393e-001 -3.7740405e-001 -3.8678063e-002\n",
       "  tBodyAcc_mad_Z  tBodyAcc_max_X  ⋯ fBodyBodyGyroJerkMag_skewness\n",
       "1  2.0745436e-001  2.1079544e-001 ⋯ -5.9248831e-001              \n",
       "2  6.0410083e-002  2.1079544e-001 ⋯ -5.8843274e-001              \n",
       "3  8.0585116e-002  1.1744028e-001 ⋯ -3.9073832e-001              \n",
       "4  3.3258449e-001  4.3998772e-002 ⋯  2.5145333e-002              \n",
       "5  3.1947326e-001  1.0170184e-001 ⋯  6.3906883e-002              \n",
       "6  2.2942952e-001  2.6901269e-001 ⋯ -3.8705200e-001              \n",
       "  fBodyBodyGyroJerkMag_kurtosis angletBodyAccMean,gravity\n",
       "1 -8.6723607e-001                3.5277575e-001          \n",
       "2 -8.8032443e-001               -1.9043686e-001          \n",
       "3 -6.8074445e-001                6.4906712e-002          \n",
       "4 -3.0402936e-001                5.2805928e-002          \n",
       "5 -3.4431361e-001               -1.0136012e-001          \n",
       "6 -7.4073820e-001               -2.8008805e-001          \n",
       "  angletBodyAccJerkMean,gravityMean angletBodyGyroMean,gravityMean\n",
       "1 -6.0481685e-001                   -7.7478312e-001               \n",
       "2  8.2971842e-001                    2.0697215e-001               \n",
       "3  8.7567905e-001                   -8.7903279e-001               \n",
       "4 -2.6672437e-001                    8.6440401e-001               \n",
       "5  7.0073969e-001                    9.3667394e-001               \n",
       "6 -7.7392783e-003                   -5.6087594e-002               \n",
       "  angletBodyGyroJerkMean,gravityMean angleX,gravityMean angleY,gravityMean\n",
       "1  7.3014246e-001                    -7.9727183e-001     2.3499575e-001   \n",
       "2 -4.2561858e-001                    -7.9188305e-001     2.3860439e-001   \n",
       "3  4.0021936e-001                    -7.7183960e-001     2.5267595e-001   \n",
       "4  7.0116882e-001                    -7.7913261e-001     2.4914484e-001   \n",
       "5 -5.8947895e-001                    -7.8518142e-001     2.4643223e-001   \n",
       "6 -6.1695645e-001                    -7.8326693e-001     2.4680852e-001   \n",
       "  angleZ,gravityMean activity_label\n",
       "1  4.8907023e-002    2             \n",
       "2  4.9819139e-002    2             \n",
       "3  5.0052558e-002    2             \n",
       "4  4.0811188e-002    2             \n",
       "5  2.5339478e-002    2             \n",
       "6  3.6694843e-002    2             "
      ]
     },
     "metadata": {},
     "output_type": "display_data"
    },
    {
     "data": {
      "text/html": [
       "<table>\n",
       "<caption>A tibble: 6 × 562</caption>\n",
       "<thead>\n",
       "\t<tr><th scope=col>tBodyAcc_mean_X</th><th scope=col>tBodyAcc_mean_Y</th><th scope=col>tBodyAcc_mean_Z</th><th scope=col>tBodyAcc_std_X</th><th scope=col>tBodyAcc_std_Y</th><th scope=col>tBodyAcc_std_Z</th><th scope=col>tBodyAcc_mad_X</th><th scope=col>tBodyAcc_mad_Y</th><th scope=col>tBodyAcc_mad_Z</th><th scope=col>tBodyAcc_max_X</th><th scope=col>⋯</th><th scope=col>fBodyBodyGyroJerkMag_skewness</th><th scope=col>fBodyBodyGyroJerkMag_kurtosis</th><th scope=col>angletBodyAccMean,gravity</th><th scope=col>angletBodyAccJerkMean,gravityMean</th><th scope=col>angletBodyGyroMean,gravityMean</th><th scope=col>angletBodyGyroJerkMean,gravityMean</th><th scope=col>angleX,gravityMean</th><th scope=col>angleY,gravityMean</th><th scope=col>angleZ,gravityMean</th><th scope=col>activity_label</th></tr>\n",
       "\t<tr><th scope=col>&lt;chr&gt;</th><th scope=col>&lt;chr&gt;</th><th scope=col>&lt;chr&gt;</th><th scope=col>&lt;chr&gt;</th><th scope=col>&lt;chr&gt;</th><th scope=col>&lt;chr&gt;</th><th scope=col>&lt;chr&gt;</th><th scope=col>&lt;chr&gt;</th><th scope=col>&lt;chr&gt;</th><th scope=col>&lt;chr&gt;</th><th scope=col>⋯</th><th scope=col>&lt;chr&gt;</th><th scope=col>&lt;chr&gt;</th><th scope=col>&lt;chr&gt;</th><th scope=col>&lt;chr&gt;</th><th scope=col>&lt;chr&gt;</th><th scope=col>&lt;chr&gt;</th><th scope=col>&lt;chr&gt;</th><th scope=col>&lt;chr&gt;</th><th scope=col>&lt;chr&gt;</th><th scope=col>&lt;dbl&gt;</th></tr>\n",
       "</thead>\n",
       "<tbody>\n",
       "\t<tr><td>  1.9227459e-001</td><td>-3.3642566e-002</td><td>-1.0594911e-001</td><td>-3.5484079e-001</td><td>-9.2504346e-002</td><td>-3.1290968e-001</td><td>-4.3357927e-001</td><td>-8.8741465e-002</td><td>-3.3605968e-001</td><td>-4.1623509e-002</td><td>⋯</td><td>-6.2965677e-001</td><td>-9.1649344e-001</td><td> 5.3598268e-001</td><td> 6.8930613e-001</td><td>-9.3660649e-001</td><td> 5.6237487e-001</td><td>-6.4675433e-001</td><td> 2.8215019e-001</td><td> 1.8115158e-001</td><td>2</td></tr>\n",
       "\t<tr><td>  3.1015462e-001</td><td>-5.3391250e-002</td><td>-9.9108716e-002</td><td>-2.8786635e-001</td><td>-1.4058918e-001</td><td>-2.1508773e-001</td><td>-3.5608315e-001</td><td>-1.4877483e-001</td><td>-2.3205733e-001</td><td> 1.8536146e-001</td><td>⋯</td><td>-3.7627777e-001</td><td>-7.5080906e-001</td><td>-3.3742157e-001</td><td> 3.4629489e-001</td><td> 8.8490383e-001</td><td>-6.9888508e-001</td><td>-6.5173235e-001</td><td> 2.7462678e-001</td><td> 1.8478430e-001</td><td>2</td></tr>\n",
       "\t<tr><td>  3.6338465e-001</td><td>-3.9214016e-002</td><td>-1.0591509e-001</td><td>-3.0538795e-001</td><td> 2.8147742e-002</td><td>-1.9637291e-001</td><td>-3.7353982e-001</td><td>-3.0036042e-002</td><td>-2.7023668e-001</td><td> 1.8536146e-001</td><td>⋯</td><td>-3.2041786e-001</td><td>-7.0027424e-001</td><td>-7.3670095e-001</td><td>-3.7288894e-001</td><td>-6.5742051e-001</td><td> 3.2254850e-001</td><td>-6.5518092e-001</td><td> 2.7357825e-001</td><td> 1.8241215e-001</td><td>2</td></tr>\n",
       "\t<tr><td>  3.4996609e-001</td><td> 3.0077442e-002</td><td>-1.1578796e-001</td><td>-3.2963808e-001</td><td>-4.2142894e-002</td><td>-2.5018068e-001</td><td>-3.8801695e-001</td><td>-1.3325698e-001</td><td>-3.4702897e-001</td><td> 7.4714557e-003</td><td>⋯</td><td>-1.1885353e-001</td><td>-4.6717918e-001</td><td>-1.8156041e-001</td><td> 8.8574068e-002</td><td> 6.9666350e-001</td><td> 3.6313871e-001</td><td>-6.5535684e-001</td><td> 2.7447878e-001</td><td> 1.8118355e-001</td><td>2</td></tr>\n",
       "\t<tr><td>  2.3759383e-001</td><td> 1.8466870e-002</td><td>-9.6498932e-002</td><td>-3.2311431e-001</td><td>-2.2977539e-001</td><td>-2.0757363e-001</td><td>-3.9238016e-001</td><td>-2.7961019e-001</td><td>-2.8947740e-001</td><td> 7.4714557e-003</td><td>⋯</td><td>-2.0544513e-001</td><td>-6.1773651e-001</td><td> 4.4455767e-001</td><td>-8.1918771e-001</td><td> 9.2929414e-001</td><td>-8.3982494e-003</td><td>-6.5971859e-001</td><td> 2.6478161e-001</td><td> 1.8756291e-001</td><td>2</td></tr>\n",
       "\t<tr><td>  1.5362719e-001</td><td>-1.8436506e-002</td><td>-1.3701846e-001</td><td>-3.3004597e-001</td><td>-1.9525335e-001</td><td>-1.6433879e-001</td><td>-4.3097381e-001</td><td>-2.1829465e-001</td><td>-2.2993287e-001</td><td>-1.1152697e-001</td><td>⋯</td><td>-7.2237101e-002</td><td>-4.3694001e-001</td><td> 5.9880823e-001</td><td>-2.8795067e-001</td><td> 8.7602991e-001</td><td>-2.4965139e-002</td><td>-6.6008023e-001</td><td> 2.6393619e-001</td><td> 1.8810340e-001</td><td>2</td></tr>\n",
       "</tbody>\n",
       "</table>\n"
      ],
      "text/latex": [
       "A tibble: 6 × 562\n",
       "\\begin{tabular}{lllllllllllllllllllll}\n",
       " tBodyAcc\\_mean\\_X & tBodyAcc\\_mean\\_Y & tBodyAcc\\_mean\\_Z & tBodyAcc\\_std\\_X & tBodyAcc\\_std\\_Y & tBodyAcc\\_std\\_Z & tBodyAcc\\_mad\\_X & tBodyAcc\\_mad\\_Y & tBodyAcc\\_mad\\_Z & tBodyAcc\\_max\\_X & ⋯ & fBodyBodyGyroJerkMag\\_skewness & fBodyBodyGyroJerkMag\\_kurtosis & angletBodyAccMean,gravity & angletBodyAccJerkMean,gravityMean & angletBodyGyroMean,gravityMean & angletBodyGyroJerkMean,gravityMean & angleX,gravityMean & angleY,gravityMean & angleZ,gravityMean & activity\\_label\\\\\n",
       " <chr> & <chr> & <chr> & <chr> & <chr> & <chr> & <chr> & <chr> & <chr> & <chr> & ⋯ & <chr> & <chr> & <chr> & <chr> & <chr> & <chr> & <chr> & <chr> & <chr> & <dbl>\\\\\n",
       "\\hline\n",
       "\t   1.9227459e-001 & -3.3642566e-002 & -1.0594911e-001 & -3.5484079e-001 & -9.2504346e-002 & -3.1290968e-001 & -4.3357927e-001 & -8.8741465e-002 & -3.3605968e-001 & -4.1623509e-002 & ⋯ & -6.2965677e-001 & -9.1649344e-001 &  5.3598268e-001 &  6.8930613e-001 & -9.3660649e-001 &  5.6237487e-001 & -6.4675433e-001 &  2.8215019e-001 &  1.8115158e-001 & 2\\\\\n",
       "\t   3.1015462e-001 & -5.3391250e-002 & -9.9108716e-002 & -2.8786635e-001 & -1.4058918e-001 & -2.1508773e-001 & -3.5608315e-001 & -1.4877483e-001 & -2.3205733e-001 &  1.8536146e-001 & ⋯ & -3.7627777e-001 & -7.5080906e-001 & -3.3742157e-001 &  3.4629489e-001 &  8.8490383e-001 & -6.9888508e-001 & -6.5173235e-001 &  2.7462678e-001 &  1.8478430e-001 & 2\\\\\n",
       "\t   3.6338465e-001 & -3.9214016e-002 & -1.0591509e-001 & -3.0538795e-001 &  2.8147742e-002 & -1.9637291e-001 & -3.7353982e-001 & -3.0036042e-002 & -2.7023668e-001 &  1.8536146e-001 & ⋯ & -3.2041786e-001 & -7.0027424e-001 & -7.3670095e-001 & -3.7288894e-001 & -6.5742051e-001 &  3.2254850e-001 & -6.5518092e-001 &  2.7357825e-001 &  1.8241215e-001 & 2\\\\\n",
       "\t   3.4996609e-001 &  3.0077442e-002 & -1.1578796e-001 & -3.2963808e-001 & -4.2142894e-002 & -2.5018068e-001 & -3.8801695e-001 & -1.3325698e-001 & -3.4702897e-001 &  7.4714557e-003 & ⋯ & -1.1885353e-001 & -4.6717918e-001 & -1.8156041e-001 &  8.8574068e-002 &  6.9666350e-001 &  3.6313871e-001 & -6.5535684e-001 &  2.7447878e-001 &  1.8118355e-001 & 2\\\\\n",
       "\t   2.3759383e-001 &  1.8466870e-002 & -9.6498932e-002 & -3.2311431e-001 & -2.2977539e-001 & -2.0757363e-001 & -3.9238016e-001 & -2.7961019e-001 & -2.8947740e-001 &  7.4714557e-003 & ⋯ & -2.0544513e-001 & -6.1773651e-001 &  4.4455767e-001 & -8.1918771e-001 &  9.2929414e-001 & -8.3982494e-003 & -6.5971859e-001 &  2.6478161e-001 &  1.8756291e-001 & 2\\\\\n",
       "\t   1.5362719e-001 & -1.8436506e-002 & -1.3701846e-001 & -3.3004597e-001 & -1.9525335e-001 & -1.6433879e-001 & -4.3097381e-001 & -2.1829465e-001 & -2.2993287e-001 & -1.1152697e-001 & ⋯ & -7.2237101e-002 & -4.3694001e-001 &  5.9880823e-001 & -2.8795067e-001 &  8.7602991e-001 & -2.4965139e-002 & -6.6008023e-001 &  2.6393619e-001 &  1.8810340e-001 & 2\\\\\n",
       "\\end{tabular}\n"
      ],
      "text/markdown": [
       "\n",
       "A tibble: 6 × 562\n",
       "\n",
       "| tBodyAcc_mean_X &lt;chr&gt; | tBodyAcc_mean_Y &lt;chr&gt; | tBodyAcc_mean_Z &lt;chr&gt; | tBodyAcc_std_X &lt;chr&gt; | tBodyAcc_std_Y &lt;chr&gt; | tBodyAcc_std_Z &lt;chr&gt; | tBodyAcc_mad_X &lt;chr&gt; | tBodyAcc_mad_Y &lt;chr&gt; | tBodyAcc_mad_Z &lt;chr&gt; | tBodyAcc_max_X &lt;chr&gt; | ⋯ ⋯ | fBodyBodyGyroJerkMag_skewness &lt;chr&gt; | fBodyBodyGyroJerkMag_kurtosis &lt;chr&gt; | angletBodyAccMean,gravity &lt;chr&gt; | angletBodyAccJerkMean,gravityMean &lt;chr&gt; | angletBodyGyroMean,gravityMean &lt;chr&gt; | angletBodyGyroJerkMean,gravityMean &lt;chr&gt; | angleX,gravityMean &lt;chr&gt; | angleY,gravityMean &lt;chr&gt; | angleZ,gravityMean &lt;chr&gt; | activity_label &lt;dbl&gt; |\n",
       "|---|---|---|---|---|---|---|---|---|---|---|---|---|---|---|---|---|---|---|---|---|\n",
       "|   1.9227459e-001 | -3.3642566e-002 | -1.0594911e-001 | -3.5484079e-001 | -9.2504346e-002 | -3.1290968e-001 | -4.3357927e-001 | -8.8741465e-002 | -3.3605968e-001 | -4.1623509e-002 | ⋯ | -6.2965677e-001 | -9.1649344e-001 |  5.3598268e-001 |  6.8930613e-001 | -9.3660649e-001 |  5.6237487e-001 | -6.4675433e-001 |  2.8215019e-001 |  1.8115158e-001 | 2 |\n",
       "|   3.1015462e-001 | -5.3391250e-002 | -9.9108716e-002 | -2.8786635e-001 | -1.4058918e-001 | -2.1508773e-001 | -3.5608315e-001 | -1.4877483e-001 | -2.3205733e-001 |  1.8536146e-001 | ⋯ | -3.7627777e-001 | -7.5080906e-001 | -3.3742157e-001 |  3.4629489e-001 |  8.8490383e-001 | -6.9888508e-001 | -6.5173235e-001 |  2.7462678e-001 |  1.8478430e-001 | 2 |\n",
       "|   3.6338465e-001 | -3.9214016e-002 | -1.0591509e-001 | -3.0538795e-001 |  2.8147742e-002 | -1.9637291e-001 | -3.7353982e-001 | -3.0036042e-002 | -2.7023668e-001 |  1.8536146e-001 | ⋯ | -3.2041786e-001 | -7.0027424e-001 | -7.3670095e-001 | -3.7288894e-001 | -6.5742051e-001 |  3.2254850e-001 | -6.5518092e-001 |  2.7357825e-001 |  1.8241215e-001 | 2 |\n",
       "|   3.4996609e-001 |  3.0077442e-002 | -1.1578796e-001 | -3.2963808e-001 | -4.2142894e-002 | -2.5018068e-001 | -3.8801695e-001 | -1.3325698e-001 | -3.4702897e-001 |  7.4714557e-003 | ⋯ | -1.1885353e-001 | -4.6717918e-001 | -1.8156041e-001 |  8.8574068e-002 |  6.9666350e-001 |  3.6313871e-001 | -6.5535684e-001 |  2.7447878e-001 |  1.8118355e-001 | 2 |\n",
       "|   2.3759383e-001 |  1.8466870e-002 | -9.6498932e-002 | -3.2311431e-001 | -2.2977539e-001 | -2.0757363e-001 | -3.9238016e-001 | -2.7961019e-001 | -2.8947740e-001 |  7.4714557e-003 | ⋯ | -2.0544513e-001 | -6.1773651e-001 |  4.4455767e-001 | -8.1918771e-001 |  9.2929414e-001 | -8.3982494e-003 | -6.5971859e-001 |  2.6478161e-001 |  1.8756291e-001 | 2 |\n",
       "|   1.5362719e-001 | -1.8436506e-002 | -1.3701846e-001 | -3.3004597e-001 | -1.9525335e-001 | -1.6433879e-001 | -4.3097381e-001 | -2.1829465e-001 | -2.2993287e-001 | -1.1152697e-001 | ⋯ | -7.2237101e-002 | -4.3694001e-001 |  5.9880823e-001 | -2.8795067e-001 |  8.7602991e-001 | -2.4965139e-002 | -6.6008023e-001 |  2.6393619e-001 |  1.8810340e-001 | 2 |\n",
       "\n"
      ],
      "text/plain": [
       "  tBodyAcc_mean_X  tBodyAcc_mean_Y tBodyAcc_mean_Z tBodyAcc_std_X \n",
       "1   1.9227459e-001 -3.3642566e-002 -1.0594911e-001 -3.5484079e-001\n",
       "2   3.1015462e-001 -5.3391250e-002 -9.9108716e-002 -2.8786635e-001\n",
       "3   3.6338465e-001 -3.9214016e-002 -1.0591509e-001 -3.0538795e-001\n",
       "4   3.4996609e-001  3.0077442e-002 -1.1578796e-001 -3.2963808e-001\n",
       "5   2.3759383e-001  1.8466870e-002 -9.6498932e-002 -3.2311431e-001\n",
       "6   1.5362719e-001 -1.8436506e-002 -1.3701846e-001 -3.3004597e-001\n",
       "  tBodyAcc_std_Y  tBodyAcc_std_Z  tBodyAcc_mad_X  tBodyAcc_mad_Y \n",
       "1 -9.2504346e-002 -3.1290968e-001 -4.3357927e-001 -8.8741465e-002\n",
       "2 -1.4058918e-001 -2.1508773e-001 -3.5608315e-001 -1.4877483e-001\n",
       "3  2.8147742e-002 -1.9637291e-001 -3.7353982e-001 -3.0036042e-002\n",
       "4 -4.2142894e-002 -2.5018068e-001 -3.8801695e-001 -1.3325698e-001\n",
       "5 -2.2977539e-001 -2.0757363e-001 -3.9238016e-001 -2.7961019e-001\n",
       "6 -1.9525335e-001 -1.6433879e-001 -4.3097381e-001 -2.1829465e-001\n",
       "  tBodyAcc_mad_Z  tBodyAcc_max_X  ⋯ fBodyBodyGyroJerkMag_skewness\n",
       "1 -3.3605968e-001 -4.1623509e-002 ⋯ -6.2965677e-001              \n",
       "2 -2.3205733e-001  1.8536146e-001 ⋯ -3.7627777e-001              \n",
       "3 -2.7023668e-001  1.8536146e-001 ⋯ -3.2041786e-001              \n",
       "4 -3.4702897e-001  7.4714557e-003 ⋯ -1.1885353e-001              \n",
       "5 -2.8947740e-001  7.4714557e-003 ⋯ -2.0544513e-001              \n",
       "6 -2.2993287e-001 -1.1152697e-001 ⋯ -7.2237101e-002              \n",
       "  fBodyBodyGyroJerkMag_kurtosis angletBodyAccMean,gravity\n",
       "1 -9.1649344e-001                5.3598268e-001          \n",
       "2 -7.5080906e-001               -3.3742157e-001          \n",
       "3 -7.0027424e-001               -7.3670095e-001          \n",
       "4 -4.6717918e-001               -1.8156041e-001          \n",
       "5 -6.1773651e-001                4.4455767e-001          \n",
       "6 -4.3694001e-001                5.9880823e-001          \n",
       "  angletBodyAccJerkMean,gravityMean angletBodyGyroMean,gravityMean\n",
       "1  6.8930613e-001                   -9.3660649e-001               \n",
       "2  3.4629489e-001                    8.8490383e-001               \n",
       "3 -3.7288894e-001                   -6.5742051e-001               \n",
       "4  8.8574068e-002                    6.9666350e-001               \n",
       "5 -8.1918771e-001                    9.2929414e-001               \n",
       "6 -2.8795067e-001                    8.7602991e-001               \n",
       "  angletBodyGyroJerkMean,gravityMean angleX,gravityMean angleY,gravityMean\n",
       "1  5.6237487e-001                    -6.4675433e-001     2.8215019e-001   \n",
       "2 -6.9888508e-001                    -6.5173235e-001     2.7462678e-001   \n",
       "3  3.2254850e-001                    -6.5518092e-001     2.7357825e-001   \n",
       "4  3.6313871e-001                    -6.5535684e-001     2.7447878e-001   \n",
       "5 -8.3982494e-003                    -6.5971859e-001     2.6478161e-001   \n",
       "6 -2.4965139e-002                    -6.6008023e-001     2.6393619e-001   \n",
       "  angleZ,gravityMean activity_label\n",
       "1  1.8115158e-001    2             \n",
       "2  1.8478430e-001    2             \n",
       "3  1.8241215e-001    2             \n",
       "4  1.8118355e-001    2             \n",
       "5  1.8756291e-001    2             \n",
       "6  1.8810340e-001    2             "
      ]
     },
     "metadata": {},
     "output_type": "display_data"
    }
   ],
   "source": [
    "# add activity label column to data\n",
    "training_set_all <- bind_cols(x_training_data, y_training_label)\n",
    "tail(training_set_all)\n",
    "\n",
    "testing_set_all <- bind_cols(x_testing_data, y_testing_label)\n",
    "tail(testing_set_all)"
   ]
  },
  {
   "cell_type": "code",
   "execution_count": 190,
   "metadata": {},
   "outputs": [
    {
     "data": {
      "text/html": [
       "<table>\n",
       "<caption>A tibble: 6 × 562</caption>\n",
       "<thead>\n",
       "\t<tr><th scope=col>tBodyAcc_mean_X</th><th scope=col>tBodyAcc_mean_Y</th><th scope=col>tBodyAcc_mean_Z</th><th scope=col>tBodyAcc_std_X</th><th scope=col>tBodyAcc_std_Y</th><th scope=col>tBodyAcc_std_Z</th><th scope=col>tBodyAcc_mad_X</th><th scope=col>tBodyAcc_mad_Y</th><th scope=col>tBodyAcc_mad_Z</th><th scope=col>tBodyAcc_max_X</th><th scope=col>⋯</th><th scope=col>fBodyBodyGyroJerkMag_skewness</th><th scope=col>fBodyBodyGyroJerkMag_kurtosis</th><th scope=col>angletBodyAccMean,gravity</th><th scope=col>angletBodyAccJerkMean,gravityMean</th><th scope=col>angletBodyGyroMean,gravityMean</th><th scope=col>angletBodyGyroJerkMean,gravityMean</th><th scope=col>angleX,gravityMean</th><th scope=col>angleY,gravityMean</th><th scope=col>angleZ,gravityMean</th><th scope=col>activity_label</th></tr>\n",
       "\t<tr><th scope=col>&lt;chr&gt;</th><th scope=col>&lt;chr&gt;</th><th scope=col>&lt;chr&gt;</th><th scope=col>&lt;chr&gt;</th><th scope=col>&lt;chr&gt;</th><th scope=col>&lt;chr&gt;</th><th scope=col>&lt;chr&gt;</th><th scope=col>&lt;chr&gt;</th><th scope=col>&lt;chr&gt;</th><th scope=col>&lt;chr&gt;</th><th scope=col>⋯</th><th scope=col>&lt;chr&gt;</th><th scope=col>&lt;chr&gt;</th><th scope=col>&lt;chr&gt;</th><th scope=col>&lt;chr&gt;</th><th scope=col>&lt;chr&gt;</th><th scope=col>&lt;chr&gt;</th><th scope=col>&lt;chr&gt;</th><th scope=col>&lt;chr&gt;</th><th scope=col>&lt;chr&gt;</th><th scope=col>&lt;fct&gt;</th></tr>\n",
       "</thead>\n",
       "<tbody>\n",
       "\t<tr><td>  1.9227459e-001</td><td>-3.3642566e-002</td><td>-1.0594911e-001</td><td>-3.5484079e-001</td><td>-9.2504346e-002</td><td>-3.1290968e-001</td><td>-4.3357927e-001</td><td>-8.8741465e-002</td><td>-3.3605968e-001</td><td>-4.1623509e-002</td><td>⋯</td><td>-6.2965677e-001</td><td>-9.1649344e-001</td><td> 5.3598268e-001</td><td> 6.8930613e-001</td><td>-9.3660649e-001</td><td> 5.6237487e-001</td><td>-6.4675433e-001</td><td> 2.8215019e-001</td><td> 1.8115158e-001</td><td>2</td></tr>\n",
       "\t<tr><td>  3.1015462e-001</td><td>-5.3391250e-002</td><td>-9.9108716e-002</td><td>-2.8786635e-001</td><td>-1.4058918e-001</td><td>-2.1508773e-001</td><td>-3.5608315e-001</td><td>-1.4877483e-001</td><td>-2.3205733e-001</td><td> 1.8536146e-001</td><td>⋯</td><td>-3.7627777e-001</td><td>-7.5080906e-001</td><td>-3.3742157e-001</td><td> 3.4629489e-001</td><td> 8.8490383e-001</td><td>-6.9888508e-001</td><td>-6.5173235e-001</td><td> 2.7462678e-001</td><td> 1.8478430e-001</td><td>2</td></tr>\n",
       "\t<tr><td>  3.6338465e-001</td><td>-3.9214016e-002</td><td>-1.0591509e-001</td><td>-3.0538795e-001</td><td> 2.8147742e-002</td><td>-1.9637291e-001</td><td>-3.7353982e-001</td><td>-3.0036042e-002</td><td>-2.7023668e-001</td><td> 1.8536146e-001</td><td>⋯</td><td>-3.2041786e-001</td><td>-7.0027424e-001</td><td>-7.3670095e-001</td><td>-3.7288894e-001</td><td>-6.5742051e-001</td><td> 3.2254850e-001</td><td>-6.5518092e-001</td><td> 2.7357825e-001</td><td> 1.8241215e-001</td><td>2</td></tr>\n",
       "\t<tr><td>  3.4996609e-001</td><td> 3.0077442e-002</td><td>-1.1578796e-001</td><td>-3.2963808e-001</td><td>-4.2142894e-002</td><td>-2.5018068e-001</td><td>-3.8801695e-001</td><td>-1.3325698e-001</td><td>-3.4702897e-001</td><td> 7.4714557e-003</td><td>⋯</td><td>-1.1885353e-001</td><td>-4.6717918e-001</td><td>-1.8156041e-001</td><td> 8.8574068e-002</td><td> 6.9666350e-001</td><td> 3.6313871e-001</td><td>-6.5535684e-001</td><td> 2.7447878e-001</td><td> 1.8118355e-001</td><td>2</td></tr>\n",
       "\t<tr><td>  2.3759383e-001</td><td> 1.8466870e-002</td><td>-9.6498932e-002</td><td>-3.2311431e-001</td><td>-2.2977539e-001</td><td>-2.0757363e-001</td><td>-3.9238016e-001</td><td>-2.7961019e-001</td><td>-2.8947740e-001</td><td> 7.4714557e-003</td><td>⋯</td><td>-2.0544513e-001</td><td>-6.1773651e-001</td><td> 4.4455767e-001</td><td>-8.1918771e-001</td><td> 9.2929414e-001</td><td>-8.3982494e-003</td><td>-6.5971859e-001</td><td> 2.6478161e-001</td><td> 1.8756291e-001</td><td>2</td></tr>\n",
       "\t<tr><td>  1.5362719e-001</td><td>-1.8436506e-002</td><td>-1.3701846e-001</td><td>-3.3004597e-001</td><td>-1.9525335e-001</td><td>-1.6433879e-001</td><td>-4.3097381e-001</td><td>-2.1829465e-001</td><td>-2.2993287e-001</td><td>-1.1152697e-001</td><td>⋯</td><td>-7.2237101e-002</td><td>-4.3694001e-001</td><td> 5.9880823e-001</td><td>-2.8795067e-001</td><td> 8.7602991e-001</td><td>-2.4965139e-002</td><td>-6.6008023e-001</td><td> 2.6393619e-001</td><td> 1.8810340e-001</td><td>2</td></tr>\n",
       "</tbody>\n",
       "</table>\n"
      ],
      "text/latex": [
       "A tibble: 6 × 562\n",
       "\\begin{tabular}{lllllllllllllllllllll}\n",
       " tBodyAcc\\_mean\\_X & tBodyAcc\\_mean\\_Y & tBodyAcc\\_mean\\_Z & tBodyAcc\\_std\\_X & tBodyAcc\\_std\\_Y & tBodyAcc\\_std\\_Z & tBodyAcc\\_mad\\_X & tBodyAcc\\_mad\\_Y & tBodyAcc\\_mad\\_Z & tBodyAcc\\_max\\_X & ⋯ & fBodyBodyGyroJerkMag\\_skewness & fBodyBodyGyroJerkMag\\_kurtosis & angletBodyAccMean,gravity & angletBodyAccJerkMean,gravityMean & angletBodyGyroMean,gravityMean & angletBodyGyroJerkMean,gravityMean & angleX,gravityMean & angleY,gravityMean & angleZ,gravityMean & activity\\_label\\\\\n",
       " <chr> & <chr> & <chr> & <chr> & <chr> & <chr> & <chr> & <chr> & <chr> & <chr> & ⋯ & <chr> & <chr> & <chr> & <chr> & <chr> & <chr> & <chr> & <chr> & <chr> & <fct>\\\\\n",
       "\\hline\n",
       "\t   1.9227459e-001 & -3.3642566e-002 & -1.0594911e-001 & -3.5484079e-001 & -9.2504346e-002 & -3.1290968e-001 & -4.3357927e-001 & -8.8741465e-002 & -3.3605968e-001 & -4.1623509e-002 & ⋯ & -6.2965677e-001 & -9.1649344e-001 &  5.3598268e-001 &  6.8930613e-001 & -9.3660649e-001 &  5.6237487e-001 & -6.4675433e-001 &  2.8215019e-001 &  1.8115158e-001 & 2\\\\\n",
       "\t   3.1015462e-001 & -5.3391250e-002 & -9.9108716e-002 & -2.8786635e-001 & -1.4058918e-001 & -2.1508773e-001 & -3.5608315e-001 & -1.4877483e-001 & -2.3205733e-001 &  1.8536146e-001 & ⋯ & -3.7627777e-001 & -7.5080906e-001 & -3.3742157e-001 &  3.4629489e-001 &  8.8490383e-001 & -6.9888508e-001 & -6.5173235e-001 &  2.7462678e-001 &  1.8478430e-001 & 2\\\\\n",
       "\t   3.6338465e-001 & -3.9214016e-002 & -1.0591509e-001 & -3.0538795e-001 &  2.8147742e-002 & -1.9637291e-001 & -3.7353982e-001 & -3.0036042e-002 & -2.7023668e-001 &  1.8536146e-001 & ⋯ & -3.2041786e-001 & -7.0027424e-001 & -7.3670095e-001 & -3.7288894e-001 & -6.5742051e-001 &  3.2254850e-001 & -6.5518092e-001 &  2.7357825e-001 &  1.8241215e-001 & 2\\\\\n",
       "\t   3.4996609e-001 &  3.0077442e-002 & -1.1578796e-001 & -3.2963808e-001 & -4.2142894e-002 & -2.5018068e-001 & -3.8801695e-001 & -1.3325698e-001 & -3.4702897e-001 &  7.4714557e-003 & ⋯ & -1.1885353e-001 & -4.6717918e-001 & -1.8156041e-001 &  8.8574068e-002 &  6.9666350e-001 &  3.6313871e-001 & -6.5535684e-001 &  2.7447878e-001 &  1.8118355e-001 & 2\\\\\n",
       "\t   2.3759383e-001 &  1.8466870e-002 & -9.6498932e-002 & -3.2311431e-001 & -2.2977539e-001 & -2.0757363e-001 & -3.9238016e-001 & -2.7961019e-001 & -2.8947740e-001 &  7.4714557e-003 & ⋯ & -2.0544513e-001 & -6.1773651e-001 &  4.4455767e-001 & -8.1918771e-001 &  9.2929414e-001 & -8.3982494e-003 & -6.5971859e-001 &  2.6478161e-001 &  1.8756291e-001 & 2\\\\\n",
       "\t   1.5362719e-001 & -1.8436506e-002 & -1.3701846e-001 & -3.3004597e-001 & -1.9525335e-001 & -1.6433879e-001 & -4.3097381e-001 & -2.1829465e-001 & -2.2993287e-001 & -1.1152697e-001 & ⋯ & -7.2237101e-002 & -4.3694001e-001 &  5.9880823e-001 & -2.8795067e-001 &  8.7602991e-001 & -2.4965139e-002 & -6.6008023e-001 &  2.6393619e-001 &  1.8810340e-001 & 2\\\\\n",
       "\\end{tabular}\n"
      ],
      "text/markdown": [
       "\n",
       "A tibble: 6 × 562\n",
       "\n",
       "| tBodyAcc_mean_X &lt;chr&gt; | tBodyAcc_mean_Y &lt;chr&gt; | tBodyAcc_mean_Z &lt;chr&gt; | tBodyAcc_std_X &lt;chr&gt; | tBodyAcc_std_Y &lt;chr&gt; | tBodyAcc_std_Z &lt;chr&gt; | tBodyAcc_mad_X &lt;chr&gt; | tBodyAcc_mad_Y &lt;chr&gt; | tBodyAcc_mad_Z &lt;chr&gt; | tBodyAcc_max_X &lt;chr&gt; | ⋯ ⋯ | fBodyBodyGyroJerkMag_skewness &lt;chr&gt; | fBodyBodyGyroJerkMag_kurtosis &lt;chr&gt; | angletBodyAccMean,gravity &lt;chr&gt; | angletBodyAccJerkMean,gravityMean &lt;chr&gt; | angletBodyGyroMean,gravityMean &lt;chr&gt; | angletBodyGyroJerkMean,gravityMean &lt;chr&gt; | angleX,gravityMean &lt;chr&gt; | angleY,gravityMean &lt;chr&gt; | angleZ,gravityMean &lt;chr&gt; | activity_label &lt;fct&gt; |\n",
       "|---|---|---|---|---|---|---|---|---|---|---|---|---|---|---|---|---|---|---|---|---|\n",
       "|   1.9227459e-001 | -3.3642566e-002 | -1.0594911e-001 | -3.5484079e-001 | -9.2504346e-002 | -3.1290968e-001 | -4.3357927e-001 | -8.8741465e-002 | -3.3605968e-001 | -4.1623509e-002 | ⋯ | -6.2965677e-001 | -9.1649344e-001 |  5.3598268e-001 |  6.8930613e-001 | -9.3660649e-001 |  5.6237487e-001 | -6.4675433e-001 |  2.8215019e-001 |  1.8115158e-001 | 2 |\n",
       "|   3.1015462e-001 | -5.3391250e-002 | -9.9108716e-002 | -2.8786635e-001 | -1.4058918e-001 | -2.1508773e-001 | -3.5608315e-001 | -1.4877483e-001 | -2.3205733e-001 |  1.8536146e-001 | ⋯ | -3.7627777e-001 | -7.5080906e-001 | -3.3742157e-001 |  3.4629489e-001 |  8.8490383e-001 | -6.9888508e-001 | -6.5173235e-001 |  2.7462678e-001 |  1.8478430e-001 | 2 |\n",
       "|   3.6338465e-001 | -3.9214016e-002 | -1.0591509e-001 | -3.0538795e-001 |  2.8147742e-002 | -1.9637291e-001 | -3.7353982e-001 | -3.0036042e-002 | -2.7023668e-001 |  1.8536146e-001 | ⋯ | -3.2041786e-001 | -7.0027424e-001 | -7.3670095e-001 | -3.7288894e-001 | -6.5742051e-001 |  3.2254850e-001 | -6.5518092e-001 |  2.7357825e-001 |  1.8241215e-001 | 2 |\n",
       "|   3.4996609e-001 |  3.0077442e-002 | -1.1578796e-001 | -3.2963808e-001 | -4.2142894e-002 | -2.5018068e-001 | -3.8801695e-001 | -1.3325698e-001 | -3.4702897e-001 |  7.4714557e-003 | ⋯ | -1.1885353e-001 | -4.6717918e-001 | -1.8156041e-001 |  8.8574068e-002 |  6.9666350e-001 |  3.6313871e-001 | -6.5535684e-001 |  2.7447878e-001 |  1.8118355e-001 | 2 |\n",
       "|   2.3759383e-001 |  1.8466870e-002 | -9.6498932e-002 | -3.2311431e-001 | -2.2977539e-001 | -2.0757363e-001 | -3.9238016e-001 | -2.7961019e-001 | -2.8947740e-001 |  7.4714557e-003 | ⋯ | -2.0544513e-001 | -6.1773651e-001 |  4.4455767e-001 | -8.1918771e-001 |  9.2929414e-001 | -8.3982494e-003 | -6.5971859e-001 |  2.6478161e-001 |  1.8756291e-001 | 2 |\n",
       "|   1.5362719e-001 | -1.8436506e-002 | -1.3701846e-001 | -3.3004597e-001 | -1.9525335e-001 | -1.6433879e-001 | -4.3097381e-001 | -2.1829465e-001 | -2.2993287e-001 | -1.1152697e-001 | ⋯ | -7.2237101e-002 | -4.3694001e-001 |  5.9880823e-001 | -2.8795067e-001 |  8.7602991e-001 | -2.4965139e-002 | -6.6008023e-001 |  2.6393619e-001 |  1.8810340e-001 | 2 |\n",
       "\n"
      ],
      "text/plain": [
       "  tBodyAcc_mean_X  tBodyAcc_mean_Y tBodyAcc_mean_Z tBodyAcc_std_X \n",
       "1   1.9227459e-001 -3.3642566e-002 -1.0594911e-001 -3.5484079e-001\n",
       "2   3.1015462e-001 -5.3391250e-002 -9.9108716e-002 -2.8786635e-001\n",
       "3   3.6338465e-001 -3.9214016e-002 -1.0591509e-001 -3.0538795e-001\n",
       "4   3.4996609e-001  3.0077442e-002 -1.1578796e-001 -3.2963808e-001\n",
       "5   2.3759383e-001  1.8466870e-002 -9.6498932e-002 -3.2311431e-001\n",
       "6   1.5362719e-001 -1.8436506e-002 -1.3701846e-001 -3.3004597e-001\n",
       "  tBodyAcc_std_Y  tBodyAcc_std_Z  tBodyAcc_mad_X  tBodyAcc_mad_Y \n",
       "1 -9.2504346e-002 -3.1290968e-001 -4.3357927e-001 -8.8741465e-002\n",
       "2 -1.4058918e-001 -2.1508773e-001 -3.5608315e-001 -1.4877483e-001\n",
       "3  2.8147742e-002 -1.9637291e-001 -3.7353982e-001 -3.0036042e-002\n",
       "4 -4.2142894e-002 -2.5018068e-001 -3.8801695e-001 -1.3325698e-001\n",
       "5 -2.2977539e-001 -2.0757363e-001 -3.9238016e-001 -2.7961019e-001\n",
       "6 -1.9525335e-001 -1.6433879e-001 -4.3097381e-001 -2.1829465e-001\n",
       "  tBodyAcc_mad_Z  tBodyAcc_max_X  ⋯ fBodyBodyGyroJerkMag_skewness\n",
       "1 -3.3605968e-001 -4.1623509e-002 ⋯ -6.2965677e-001              \n",
       "2 -2.3205733e-001  1.8536146e-001 ⋯ -3.7627777e-001              \n",
       "3 -2.7023668e-001  1.8536146e-001 ⋯ -3.2041786e-001              \n",
       "4 -3.4702897e-001  7.4714557e-003 ⋯ -1.1885353e-001              \n",
       "5 -2.8947740e-001  7.4714557e-003 ⋯ -2.0544513e-001              \n",
       "6 -2.2993287e-001 -1.1152697e-001 ⋯ -7.2237101e-002              \n",
       "  fBodyBodyGyroJerkMag_kurtosis angletBodyAccMean,gravity\n",
       "1 -9.1649344e-001                5.3598268e-001          \n",
       "2 -7.5080906e-001               -3.3742157e-001          \n",
       "3 -7.0027424e-001               -7.3670095e-001          \n",
       "4 -4.6717918e-001               -1.8156041e-001          \n",
       "5 -6.1773651e-001                4.4455767e-001          \n",
       "6 -4.3694001e-001                5.9880823e-001          \n",
       "  angletBodyAccJerkMean,gravityMean angletBodyGyroMean,gravityMean\n",
       "1  6.8930613e-001                   -9.3660649e-001               \n",
       "2  3.4629489e-001                    8.8490383e-001               \n",
       "3 -3.7288894e-001                   -6.5742051e-001               \n",
       "4  8.8574068e-002                    6.9666350e-001               \n",
       "5 -8.1918771e-001                    9.2929414e-001               \n",
       "6 -2.8795067e-001                    8.7602991e-001               \n",
       "  angletBodyGyroJerkMean,gravityMean angleX,gravityMean angleY,gravityMean\n",
       "1  5.6237487e-001                    -6.4675433e-001     2.8215019e-001   \n",
       "2 -6.9888508e-001                    -6.5173235e-001     2.7462678e-001   \n",
       "3  3.2254850e-001                    -6.5518092e-001     2.7357825e-001   \n",
       "4  3.6313871e-001                    -6.5535684e-001     2.7447878e-001   \n",
       "5 -8.3982494e-003                    -6.5971859e-001     2.6478161e-001   \n",
       "6 -2.4965139e-002                    -6.6008023e-001     2.6393619e-001   \n",
       "  angleZ,gravityMean activity_label\n",
       "1  1.8115158e-001    2             \n",
       "2  1.8478430e-001    2             \n",
       "3  1.8241215e-001    2             \n",
       "4  1.8118355e-001    2             \n",
       "5  1.8756291e-001    2             \n",
       "6  1.8810340e-001    2             "
      ]
     },
     "metadata": {},
     "output_type": "display_data"
    }
   ],
   "source": [
    "# combine all the data into one\n",
    "bothdfs <- rbind(training_set_all, testing_set_all) %>%\n",
    "      mutate(activity_label = as_factor(activity_label)) \n",
    "tail(bothdfs)"
   ]
  },
  {
   "cell_type": "markdown",
   "metadata": {},
   "source": [
    "Our dataset is tidy because each row is a single observation, each column is a single variable, and each value is a single cell."
   ]
  },
  {
   "cell_type": "code",
   "execution_count": 191,
   "metadata": {},
   "outputs": [],
   "source": [
    "# random spliting of the combined entire dataset into train (75%) and test (25%)\n",
    "bothdfs_split <- initial_split(bothdfs, prop = 0.75, strata = activity_label)\n",
    "activity_train <- training(bothdfs_split)\n",
    "activity_test <- testing(bothdfs_split)"
   ]
  },
  {
   "cell_type": "markdown",
   "metadata": {},
   "source": [
    "Since there are too many features available (561), we will select 6 variables that we hypothesize to be relevant. We will focus on a small subset of all the variables instead of looking at all of them. Then we will examine the variables we have picked using visualization and other techniques.\n",
    "\n",
    "The 6 variables are: \n",
    "tBodyAcc-mean()-X, tBodyAcc-mean()-Y, tBodyAcc-mean()-Z, tBodyGyro-mean()-X, tBodyGyro-mean()-Y and tBodyGyro-mean()-Z."
   ]
  },
  {
   "cell_type": "code",
   "execution_count": 192,
   "metadata": {},
   "outputs": [
    {
     "data": {
      "text/html": [
       "<table>\n",
       "<caption>A tibble: 6 × 7</caption>\n",
       "<thead>\n",
       "\t<tr><th scope=col>tBodyAcc_mean_X</th><th scope=col>tBodyAcc_mean_Y</th><th scope=col>tBodyAcc_mean_Z</th><th scope=col>tBodyGyro_mean_X</th><th scope=col>tBodyGyro_mean_Y</th><th scope=col>tBodyGyro_mean_Z</th><th scope=col>activity_label</th></tr>\n",
       "\t<tr><th scope=col>&lt;dbl&gt;</th><th scope=col>&lt;dbl&gt;</th><th scope=col>&lt;dbl&gt;</th><th scope=col>&lt;dbl&gt;</th><th scope=col>&lt;dbl&gt;</th><th scope=col>&lt;dbl&gt;</th><th scope=col>&lt;fct&gt;</th></tr>\n",
       "</thead>\n",
       "<tbody>\n",
       "\t<tr><td>0.1471456</td><td>-0.04690785</td><td>-0.06933821</td><td> 0.42234149</td><td>-0.36894638</td><td>-0.30291286</td><td>2</td></tr>\n",
       "\t<tr><td>0.1922746</td><td>-0.03364257</td><td>-0.10594911</td><td> 0.09440037</td><td>-0.12238811</td><td> 0.01183796</td><td>2</td></tr>\n",
       "\t<tr><td>0.3101546</td><td>-0.05339125</td><td>-0.09910872</td><td>-0.14247281</td><td> 0.02544275</td><td> 0.20286208</td><td>2</td></tr>\n",
       "\t<tr><td>0.3499661</td><td> 0.03007744</td><td>-0.11578796</td><td>-0.12371500</td><td> 0.08631957</td><td> 0.26142304</td><td>2</td></tr>\n",
       "\t<tr><td>0.2375938</td><td> 0.01846687</td><td>-0.09649893</td><td>-0.33591203</td><td> 0.09934677</td><td> 0.35505812</td><td>2</td></tr>\n",
       "\t<tr><td>0.1536272</td><td>-0.01843651</td><td>-0.13701846</td><td>-0.20822948</td><td>-0.03865400</td><td> 0.24610106</td><td>2</td></tr>\n",
       "</tbody>\n",
       "</table>\n"
      ],
      "text/latex": [
       "A tibble: 6 × 7\n",
       "\\begin{tabular}{lllllll}\n",
       " tBodyAcc\\_mean\\_X & tBodyAcc\\_mean\\_Y & tBodyAcc\\_mean\\_Z & tBodyGyro\\_mean\\_X & tBodyGyro\\_mean\\_Y & tBodyGyro\\_mean\\_Z & activity\\_label\\\\\n",
       " <dbl> & <dbl> & <dbl> & <dbl> & <dbl> & <dbl> & <fct>\\\\\n",
       "\\hline\n",
       "\t 0.1471456 & -0.04690785 & -0.06933821 &  0.42234149 & -0.36894638 & -0.30291286 & 2\\\\\n",
       "\t 0.1922746 & -0.03364257 & -0.10594911 &  0.09440037 & -0.12238811 &  0.01183796 & 2\\\\\n",
       "\t 0.3101546 & -0.05339125 & -0.09910872 & -0.14247281 &  0.02544275 &  0.20286208 & 2\\\\\n",
       "\t 0.3499661 &  0.03007744 & -0.11578796 & -0.12371500 &  0.08631957 &  0.26142304 & 2\\\\\n",
       "\t 0.2375938 &  0.01846687 & -0.09649893 & -0.33591203 &  0.09934677 &  0.35505812 & 2\\\\\n",
       "\t 0.1536272 & -0.01843651 & -0.13701846 & -0.20822948 & -0.03865400 &  0.24610106 & 2\\\\\n",
       "\\end{tabular}\n"
      ],
      "text/markdown": [
       "\n",
       "A tibble: 6 × 7\n",
       "\n",
       "| tBodyAcc_mean_X &lt;dbl&gt; | tBodyAcc_mean_Y &lt;dbl&gt; | tBodyAcc_mean_Z &lt;dbl&gt; | tBodyGyro_mean_X &lt;dbl&gt; | tBodyGyro_mean_Y &lt;dbl&gt; | tBodyGyro_mean_Z &lt;dbl&gt; | activity_label &lt;fct&gt; |\n",
       "|---|---|---|---|---|---|---|\n",
       "| 0.1471456 | -0.04690785 | -0.06933821 |  0.42234149 | -0.36894638 | -0.30291286 | 2 |\n",
       "| 0.1922746 | -0.03364257 | -0.10594911 |  0.09440037 | -0.12238811 |  0.01183796 | 2 |\n",
       "| 0.3101546 | -0.05339125 | -0.09910872 | -0.14247281 |  0.02544275 |  0.20286208 | 2 |\n",
       "| 0.3499661 |  0.03007744 | -0.11578796 | -0.12371500 |  0.08631957 |  0.26142304 | 2 |\n",
       "| 0.2375938 |  0.01846687 | -0.09649893 | -0.33591203 |  0.09934677 |  0.35505812 | 2 |\n",
       "| 0.1536272 | -0.01843651 | -0.13701846 | -0.20822948 | -0.03865400 |  0.24610106 | 2 |\n",
       "\n"
      ],
      "text/plain": [
       "  tBodyAcc_mean_X tBodyAcc_mean_Y tBodyAcc_mean_Z tBodyGyro_mean_X\n",
       "1 0.1471456       -0.04690785     -0.06933821      0.42234149     \n",
       "2 0.1922746       -0.03364257     -0.10594911      0.09440037     \n",
       "3 0.3101546       -0.05339125     -0.09910872     -0.14247281     \n",
       "4 0.3499661        0.03007744     -0.11578796     -0.12371500     \n",
       "5 0.2375938        0.01846687     -0.09649893     -0.33591203     \n",
       "6 0.1536272       -0.01843651     -0.13701846     -0.20822948     \n",
       "  tBodyGyro_mean_Y tBodyGyro_mean_Z activity_label\n",
       "1 -0.36894638      -0.30291286      2             \n",
       "2 -0.12238811       0.01183796      2             \n",
       "3  0.02544275       0.20286208      2             \n",
       "4  0.08631957       0.26142304      2             \n",
       "5  0.09934677       0.35505812      2             \n",
       "6 -0.03865400       0.24610106      2             "
      ]
     },
     "metadata": {},
     "output_type": "display_data"
    }
   ],
   "source": [
    "# created a data frame contraining only the 6 variables mentioned above and the activity labels. \n",
    "training_subset <- activity_train %>%\n",
    "    select(tBodyAcc_mean_X, tBodyAcc_mean_Y, tBodyAcc_mean_Z, tBodyGyro_mean_X, tBodyGyro_mean_Y, tBodyGyro_mean_Z, activity_label) %>%\n",
    "    mutate(across(tBodyAcc_mean_X:tBodyGyro_mean_Z,as.numeric))\n",
    "tail(training_subset)"
   ]
  },
  {
   "cell_type": "markdown",
   "metadata": {},
   "source": [
    "#### III. Tables"
   ]
  },
  {
   "cell_type": "markdown",
   "metadata": {},
   "source": [
    "After splitting the dataset into a train and test set, we selected six variables for our analysis:\n",
    "1. \ttBodyAcc-mean()-X,\n",
    "2. \ttBodyAcc-mean()-Y,\n",
    "3. \ttBodyAcc-mean()-Z,\n",
    "4. \ttBodyGyro-mean()-X,\n",
    "5. \ttBodyGyro-mean()-Y and\n",
    "6. \ttBodyGyro-mean()-Z.\n",
    "\n",
    "We made a table including these variables and calculated the number of rows with missing data - zero. Next, we summarized the training data to inspect the possible scaling and centering; it appears to be already scaled by looking at the min and max values, although we should consider scaling when creating a recipe. Lastly, we calculated the number of observations for each activity to ensure equal proportions to minimize the model’s bias towards one activity. \n"
   ]
  },
  {
   "cell_type": "code",
   "execution_count": 193,
   "metadata": {},
   "outputs": [
    {
     "data": {
      "text/plain": [
       "\n",
       "\n",
       "Table: Number of rows with missing data\n",
       "\n",
       "| missing_data|\n",
       "|------------:|\n",
       "|            0|"
      ]
     },
     "metadata": {},
     "output_type": "display_data"
    }
   ],
   "source": [
    "missing_data <- training_subset %>%\n",
    "    summarize(missing_data = sum(is.na(training_subset)))\n",
    "\n",
    "# Table 1: how many rows have missing data\n",
    "kable(missing_data, caption = \"Number of rows with missing data\") "
   ]
  },
  {
   "cell_type": "markdown",
   "metadata": {},
   "source": [
    "There is no need to consider ignoring missing values. "
   ]
  },
  {
   "cell_type": "code",
   "execution_count": 194,
   "metadata": {},
   "outputs": [
    {
     "data": {
      "text/plain": [
       " tBodyAcc_mean_X   tBodyAcc_mean_Y    tBodyAcc_mean_Z    tBodyGyro_mean_X  \n",
       " Min.   :-1.0000   Min.   :-1.00000   Min.   :-1.00000   Min.   :-0.91405  \n",
       " 1st Qu.: 0.2621   1st Qu.:-0.02517   1st Qu.:-0.12115   1st Qu.:-0.04643  \n",
       " Median : 0.2771   Median :-0.01722   Median :-0.10860   Median :-0.02782  \n",
       " Mean   : 0.2729   Mean   :-0.01811   Mean   :-0.10865   Mean   :-0.03062  \n",
       " 3rd Qu.: 0.2876   3rd Qu.:-0.01074   3rd Qu.:-0.09744   3rd Qu.:-0.01137  \n",
       " Max.   : 0.6928   Max.   : 0.64675   Max.   : 1.00000   Max.   : 1.00000  \n",
       " tBodyGyro_mean_Y   tBodyGyro_mean_Z   activity_label\n",
       " Min.   :-1.00000   Min.   :-0.90286   1:1292        \n",
       " 1st Qu.:-0.10465   1st Qu.: 0.06497   2:1158        \n",
       " Median :-0.07485   Median : 0.08615   3:1055        \n",
       " Mean   :-0.07557   Mean   : 0.08793   4:1333        \n",
       " 3rd Qu.:-0.05187   3rd Qu.: 0.10975   5:1430        \n",
       " Max.   : 1.00000   Max.   : 1.00000   6:1458        "
      ]
     },
     "metadata": {},
     "output_type": "display_data"
    }
   ],
   "source": [
    "#Table 2: create summary table of training data\n",
    "summary(training_subset) \n",
    "\n",
    "# We can notice that all the data has been scaled to have same spread. \n",
    "#The min (-1.0000) and max (1.0000) values are all the same. \n",
    "#Though, they are not centered as each variable do not have a mean of 0. "
   ]
  },
  {
   "cell_type": "code",
   "execution_count": 195,
   "metadata": {},
   "outputs": [
    {
     "name": "stderr",
     "output_type": "stream",
     "text": [
      "`summarise()` ungrouping output (override with `.groups` argument)\n",
      "\n"
     ]
    },
    {
     "data": {
      "text/plain": [
       "\n",
       "\n",
       "Table: Number of observations for each activity\n",
       "\n",
       "|activity_label | count|\n",
       "|:--------------|-----:|\n",
       "|1              |  1292|\n",
       "|2              |  1158|\n",
       "|3              |  1055|\n",
       "|4              |  1333|\n",
       "|5              |  1430|\n",
       "|6              |  1458|"
      ]
     },
     "metadata": {},
     "output_type": "display_data"
    }
   ],
   "source": [
    "# data frame that has been grouped by each activity data\n",
    "each_activity_data <- training_subset %>%\n",
    "    group_by(activity_label)\n",
    "\n",
    "# Number of observations for each activity\n",
    "count_activity_data <- summarize(each_activity_data, count = n()) \n",
    "\n",
    "# Table 3: how many observations for each activity\n",
    "kable(count_activity_data, caption = \"Number of observations for each activity\")"
   ]
  },
  {
   "cell_type": "markdown",
   "metadata": {},
   "source": [
    "#### IV. Plots"
   ]
  },
  {
   "cell_type": "markdown",
   "metadata": {},
   "source": [
    "Certain activity types are more concentrated in one area of the scatter plot (body acceleration (m/s^2) vs. angular velocity(rads/s)) suggesting a moderate correlation between the estimated acceleration and angular velocity. Therefore, we expect to see a distinct acceleration and angular velocity for each activity type. This preliminary analysis confirms the validity of using both body acceleration and angular velocity in the (x,y,z) directions as the main predictors.\n"
   ]
  },
  {
   "cell_type": "code",
   "execution_count": 196,
   "metadata": {},
   "outputs": [
    {
     "data": {
      "image/png": "[encoded data removed]",
      "text/plain": [
       "plot without title"
      ]
     },
     "metadata": {
      "image/png": {
       "height": 600,
       "width": 1020
      }
     },
     "output_type": "display_data"
    }
   ],
   "source": [
    "options(repr.plot.width=17, repr.plot.height=10)\n",
    "\n",
    "# checking colour options to ensure colour blind friendliness of the plots\n",
    "display.brewer.all(colorblindFriendly = TRUE)"
   ]
  },
  {
   "cell_type": "code",
   "execution_count": null,
   "metadata": {},
   "outputs": [
    {
     "name": "stderr",
     "output_type": "stream",
     "text": [
      "Scale for 'colour' is already present. Adding another scale for 'colour',\n",
      "which will replace the existing scale.\n",
      "\n"
     ]
    }
   ],
   "source": [
    "#  Using only training data, compares the distributions of each of the predictor variables\n",
    "\n",
    "#Plot 1: Angular Velocity vs. Acceleration of a Body on Dimension X\n",
    "accl_gyro_x <- training_subset %>%\n",
    "  ggplot(aes(x = tBodyAcc_mean_X, y = tBodyGyro_mean_X, color = activity_label)) +\n",
    "  ggtitle(\"Angular Velocity vs. Acceleration of a Body on Dimension X\") +\n",
    "  geom_point(alpha = 0.4) +\n",
    "  labs(x = \"Acceleration (m/s^2)\", y = \"Angular Velocity (radians/sec)\", color = \"Activity Type\") +\n",
    "  scale_color_brewer(palette = \"Set2\") +\n",
    "  scale_color_discrete(labels = c(\"1- Walking\", \"2- Walking Upstairs\", \"3- Walking Downstairs\", \"4- Sitting\", \"5- Standing\", \"6- Laying\")) +\n",
    "  theme(text = element_text(size = 20), plot.title = element_text(size=30))\n",
    "\n",
    "accl_gyro_x"
   ]
  },
  {
   "cell_type": "code",
   "execution_count": null,
   "metadata": {},
   "outputs": [],
   "source": [
    "# Plot 2: Angular Velocity vs. Acceleration of a Body on Dimension Y\n",
    "accl_gyro_y <- training_subset %>%\n",
    "  ggplot(aes(x = tBodyGyro_mean_Y, y = tBodyAcc_mean_Y, color = activity_label)) +\n",
    "  ggtitle(\"Angular Velocity vs. Acceleration of a Body on Dimension Y\") +\n",
    "  geom_point(alpha = 0.4) +\n",
    "  labs(x = \"Acceleration (m/s^2)\", y = \"Angular Velocity (radians/sec)\", color = \"Activity Type\") +\n",
    "  scale_color_brewer(palette = \"Set2\") +\n",
    "  scale_color_discrete(labels = c(\"1- Walking\", \"2- Walking Upstairs\", \"3- Walking Downstairs\", \"4- Sitting\", \"5- Standing\", \"6- Laying\")) +\n",
    "  theme(text = element_text(size = 20), plot.title = element_text(size=30))\n",
    "\n",
    "accl_gyro_y"
   ]
  },
  {
   "cell_type": "code",
   "execution_count": null,
   "metadata": {},
   "outputs": [],
   "source": [
    "# Plot 3: Angular Velocity vs. Acceleration of a Body on Dimension Z\n",
    "accl_gyro_z <- training_subset %>%\n",
    "  ggplot(aes(x = tBodyAcc_mean_Z, y = tBodyGyro_mean_Z, color = activity_label)) +\n",
    "  ggtitle(\"Angular Velocity vs. Acceleration of a Body on Dimension Z\") +\n",
    "  geom_point(alpha = 0.5) +\n",
    "  labs(x = \"Acceleration (m/s^2)\", y = \"Angular Velocity (radians/sec)\", color = \"Activity Type\") +\n",
    "  scale_color_brewer(palette = \"Set2\") +\n",
    "  scale_color_discrete(labels = c(\"1- Walking\", \"2- Walking Upstairs\", \"3- Walking Downstairs\", \"4- Sitting\", \"5- Standing\", \"6- Laying\")) +\n",
    "  theme(text = element_text(size = 20), plot.title = element_text(size=30))\n",
    "\n",
    "accl_gyro_z"
   ]
  },
  {
   "cell_type": "markdown",
   "metadata": {},
   "source": [
    "### Expected Outcomes and Significance \n",
    "\n",
    "Overall, our project is going to find a corresponding body acceleration and angular velocity for each activity, with the expectation of a harder classification process for static activities and easier classification process for the dynamic motions. Such a finding could make full use of smartphone sensors to have a wider application and also make this technology more mature. Some factors including the smartphone position around the body and the age of the subject may also affect the experiment results; these factors should be considered and the patterns of more dynamic motions such as dancing and running could be studied in the future research.\n"
   ]
  },
  {
   "cell_type": "markdown",
   "metadata": {},
   "source": [
    "### Works Cited\n",
    "\n",
    "Ahmed, Nadeem, Jahir I. Rafiq, and Md R. Islam. \"Enhanced Human Activity Recognition Based on Smartphone Sensor Data using Hybrid Feature Selection Model.\" Sensors, vol. 20, no. 1, 2020, pp. 317.\n",
    "\n",
    "Anguita, Davide, et al. A Public Domain Dataset for Human Activity Recognition using Smartphones, 2013.\n",
    "\n",
    "Foerster, Friedrich, Manfred Smeja, and Jochen Fahrenberg. \"Detection of Posture and Motion by Accelerometry: A Validation Study in Ambulatory Monitoring.\" Computers in Human Behavior, vol. 15, no. 5, 1999, pp. 571-583."
   ]
  },
  {
   "cell_type": "code",
   "execution_count": null,
   "metadata": {},
   "outputs": [],
   "source": []
  }
 ],
 "metadata": {
  "kernelspec": {
   "display_name": "R",
   "language": "R",
   "name": "ir"
  },
  "language_info": {
   "codemirror_mode": "r",
   "file_extension": ".r",
   "mimetype": "text/x-r-source",
   "name": "R",
   "pygments_lexer": "r",
   "version": "4.0.0"
  }
 },
 "nbformat": 4,
 "nbformat_minor": 4
}
